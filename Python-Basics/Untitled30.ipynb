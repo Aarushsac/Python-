{
  "nbformat": 4,
  "nbformat_minor": 0,
  "metadata": {
    "colab": {
      "provenance": []
    },
    "kernelspec": {
      "name": "python3",
      "display_name": "Python 3"
    },
    "language_info": {
      "name": "python"
    }
  },
  "cells": [
    {
      "cell_type": "markdown",
      "source": [
        "# Python"
      ],
      "metadata": {
        "id": "YxjZoF9yy-fV"
      }
    },
    {
      "cell_type": "markdown",
      "source": [
        "Python is a case-sensitive language"
      ],
      "metadata": {
        "id": "C_Bc8ZiSzDt8"
      }
    },
    {
      "cell_type": "code",
      "execution_count": 1,
      "metadata": {
        "colab": {
          "base_uri": "https://localhost:8080/"
        },
        "id": "zUE4-9L7y2mJ",
        "outputId": "4849e28f-e3ee-49a0-c062-f672acb056ec"
      },
      "outputs": [
        {
          "output_type": "stream",
          "name": "stdout",
          "text": [
            "Aarush\n",
            "Krish\n"
          ]
        }
      ],
      "source": [
        "## Both have same spellings but differ in the value each one is storing\n",
        "name = \"Aarush\"\n",
        "Name = \"Krish\"\n",
        "print(name)\n",
        "print(Name)"
      ]
    },
    {
      "cell_type": "markdown",
      "source": [
        "### Comments"
      ],
      "metadata": {
        "id": "ZPEhuFMVzROM"
      }
    },
    {
      "cell_type": "markdown",
      "source": [
        "Comments are basically used for writing information that we may forget after some while.It can contain information such as why a piece of code was written and what task is that piece of code performing It is ignored by compiler or interpretor of Python and removed while the file is being preprocessed."
      ],
      "metadata": {
        "id": "Iqyq7kdFzfT-"
      }
    },
    {
      "cell_type": "code",
      "source": [
        "# - Syntax used for single line comments\n",
        "''' This is a multi line string\n",
        "we can use it'''"
      ],
      "metadata": {
        "colab": {
          "base_uri": "https://localhost:8080/",
          "height": 36
        },
        "id": "JjX8Th9qzUfq",
        "outputId": "da84c4ef-087f-459f-c122-617bb6b44457"
      },
      "execution_count": 2,
      "outputs": [
        {
          "output_type": "execute_result",
          "data": {
            "text/plain": [
              "' This is a multi line string\\nwe can use it'"
            ],
            "application/vnd.google.colaboratory.intrinsic+json": {
              "type": "string"
            }
          },
          "metadata": {},
          "execution_count": 2
        }
      ]
    },
    {
      "cell_type": "markdown",
      "source": [
        "##Identation"
      ],
      "metadata": {
        "id": "i4KVNJFAz0TT"
      }
    },
    {
      "cell_type": "markdown",
      "source": [
        "This is a very important concept in Python.In Python, we use identation to delimit blocks of code.Basically, if we have to tell what task of code has to be executed if a condition is true or false then we have to write it in a block so Python uses identation to assign a set of statements that will be executed only if a condition is true inside a block of that condition for that we use identation.Consistent use of spaces (generally 4) or a tab is used to represent identation which means this code or set of instructions is inside a particular block which will execute when the condition in the block is true.It defines the hierachy or structure of the code.Unlike other languages that use scope {} to delimit blocks of code Python groups statements by identation.Identation makes sure that all statements within a block are to be idented at same level unless they have nesting."
      ],
      "metadata": {
        "id": "bCZrTYBHz2TK"
      }
    },
    {
      "cell_type": "code",
      "source": [
        "age = 64\n",
        "if age > 64:\n",
        "  print(\"You are above the life expentency age in India\")"
      ],
      "metadata": {
        "id": "wPtL0id8z18R"
      },
      "execution_count": 3,
      "outputs": []
    },
    {
      "cell_type": "markdown",
      "source": [
        "### Line continuation"
      ],
      "metadata": {
        "id": "TBkU6H3_08qj"
      }
    },
    {
      "cell_type": "code",
      "source": [
        "total_sum = 1 + 2 + 3 + 4 + 5 + 6 + \\\n",
        "7 + 8 + 9 + 10 + 11 + 12"
      ],
      "metadata": {
        "id": "EuokSdb30-7d"
      },
      "execution_count": 4,
      "outputs": []
    },
    {
      "cell_type": "markdown",
      "source": [
        "### Multiple statements in a single line"
      ],
      "metadata": {
        "id": "b6hanU671Ftm"
      }
    },
    {
      "cell_type": "code",
      "source": [
        "x = 10; y = 3; z = x + y\n",
        "print(z)"
      ],
      "metadata": {
        "colab": {
          "base_uri": "https://localhost:8080/"
        },
        "id": "I7VSuQlW1IFG",
        "outputId": "a9cabfb3-320e-4340-92bd-36287b760067"
      },
      "execution_count": 5,
      "outputs": [
        {
          "output_type": "stream",
          "name": "stdout",
          "text": [
            "13\n"
          ]
        }
      ]
    },
    {
      "cell_type": "markdown",
      "source": [
        "## Variable assignment and dynamic typing"
      ],
      "metadata": {
        "id": "bY-U7Mi_1OE-"
      }
    },
    {
      "cell_type": "markdown",
      "source": [
        "Variables are names or references in Python that are used to point at the objects or memory blocks which are created on the heap to store values of different datatypes They are pointers basically in Python as we don't assign them memory of the block such as in other languages"
      ],
      "metadata": {
        "id": "4_mQsvGl1Q8L"
      }
    },
    {
      "cell_type": "markdown",
      "source": [
        "Dynamic Typing\n",
        "It is a concept in which we don't have to assign the datatype of the variable before hand as the type of data in the variable is inferenced at runtime due to variables not being memory blocks Memory blocks can be seen as containers which store values"
      ],
      "metadata": {
        "id": "-XMFim121p3L"
      }
    },
    {
      "cell_type": "code",
      "source": [
        "name = \"Aarush\"\n",
        "print(name,type(name))\n",
        "name = 6.1\n",
        "print(name,type(name))"
      ],
      "metadata": {
        "colab": {
          "base_uri": "https://localhost:8080/"
        },
        "id": "BqUT7Enm1QaS",
        "outputId": "7a779e3e-4653-4aca-b9fc-78daa7791e58"
      },
      "execution_count": 6,
      "outputs": [
        {
          "output_type": "stream",
          "name": "stdout",
          "text": [
            "Aarush <class 'str'>\n",
            "6.1 <class 'float'>\n"
          ]
        }
      ]
    },
    {
      "cell_type": "code",
      "source": [
        "## Boolean Variables\n",
        "isMale = True\n",
        "print(isMale,type(isMale))"
      ],
      "metadata": {
        "colab": {
          "base_uri": "https://localhost:8080/"
        },
        "id": "fzdi9nSt2Eko",
        "outputId": "55e15219-3dd2-4000-8a00-a5288cfc876f"
      },
      "execution_count": 7,
      "outputs": [
        {
          "output_type": "stream",
          "name": "stdout",
          "text": [
            "True <class 'bool'>\n"
          ]
        }
      ]
    },
    {
      "cell_type": "markdown",
      "source": [
        "Identifiers are names given to variables,classes,objects and other items in Python\n",
        "Naming convention in Python:\n",
        "  1.The name should start with a underscore or a letter\n",
        "  2.It cannot contain any other special character\n",
        "  3.It can contain numbers,letters\n",
        "  4.It cannot be a keyword"
      ],
      "metadata": {
        "id": "OUGFHUvv2PV4"
      }
    },
    {
      "cell_type": "code",
      "source": [
        "import keyword\n",
        "keyword.kwlist"
      ],
      "metadata": {
        "colab": {
          "base_uri": "https://localhost:8080/"
        },
        "id": "pDdBg0Cp2ohE",
        "outputId": "9cfca49b-4978-4587-c9da-f2811d04adc6"
      },
      "execution_count": 8,
      "outputs": [
        {
          "output_type": "execute_result",
          "data": {
            "text/plain": [
              "['False',\n",
              " 'None',\n",
              " 'True',\n",
              " 'and',\n",
              " 'as',\n",
              " 'assert',\n",
              " 'async',\n",
              " 'await',\n",
              " 'break',\n",
              " 'class',\n",
              " 'continue',\n",
              " 'def',\n",
              " 'del',\n",
              " 'elif',\n",
              " 'else',\n",
              " 'except',\n",
              " 'finally',\n",
              " 'for',\n",
              " 'from',\n",
              " 'global',\n",
              " 'if',\n",
              " 'import',\n",
              " 'in',\n",
              " 'is',\n",
              " 'lambda',\n",
              " 'nonlocal',\n",
              " 'not',\n",
              " 'or',\n",
              " 'pass',\n",
              " 'raise',\n",
              " 'return',\n",
              " 'try',\n",
              " 'while',\n",
              " 'with',\n",
              " 'yield']"
            ]
          },
          "metadata": {},
          "execution_count": 8
        }
      ]
    },
    {
      "cell_type": "markdown",
      "source": [
        "### Type Conversion"
      ],
      "metadata": {
        "id": "aE4Gr_KR2vkU"
      }
    },
    {
      "cell_type": "markdown",
      "source": [
        "We can convert a datatype from one value to another datatype using some in-built functions in Python like str(),bool(),int(),float()"
      ],
      "metadata": {
        "id": "KtKMF6pT27jz"
      }
    },
    {
      "cell_type": "markdown",
      "source": [
        "Always remember conversion happens in such a way that data is not lost"
      ],
      "metadata": {
        "id": "oAFxWIbo3EwH"
      }
    },
    {
      "cell_type": "code",
      "source": [
        "name = '56'\n",
        "print(name,type(name))\n",
        "name = float(name)\n",
        "print(name,type(name))"
      ],
      "metadata": {
        "colab": {
          "base_uri": "https://localhost:8080/"
        },
        "id": "Lblb-Jn12vWk",
        "outputId": "fccdc5f5-d2de-4652-838c-79ec21eb26ab"
      },
      "execution_count": 9,
      "outputs": [
        {
          "output_type": "stream",
          "name": "stdout",
          "text": [
            "56 <class 'str'>\n",
            "56.0 <class 'float'>\n"
          ]
        }
      ]
    },
    {
      "cell_type": "markdown",
      "source": [
        "## Input function"
      ],
      "metadata": {
        "id": "v9ai__Am3O7c"
      }
    },
    {
      "cell_type": "markdown",
      "source": [
        "### The input function by default takes a string as a universal input.We then convert using type conversion to our suitable datatype according to our needs"
      ],
      "metadata": {
        "id": "AhZskdUX3UyH"
      }
    },
    {
      "cell_type": "code",
      "source": [
        "number = int(input('Enter any number'))\n",
        "print(number,type(number))"
      ],
      "metadata": {
        "colab": {
          "base_uri": "https://localhost:8080/"
        },
        "id": "OLvUnh0z3QMR",
        "outputId": "c0ef7e36-f920-4ae6-bad4-6f366a9186b4"
      },
      "execution_count": 10,
      "outputs": [
        {
          "output_type": "stream",
          "name": "stdout",
          "text": [
            "Enter any number13\n",
            "13 <class 'int'>\n"
          ]
        }
      ]
    },
    {
      "cell_type": "markdown",
      "source": [
        "## Datatypes in Python"
      ],
      "metadata": {
        "id": "EO50HTaFROgt"
      }
    },
    {
      "cell_type": "markdown",
      "source": [
        "Datatypes are nothing but the type of data that we store.We can store data of different types like integer , text or decimal value"
      ],
      "metadata": {
        "id": "kwoII7jMRQ1d"
      }
    },
    {
      "cell_type": "code",
      "source": [
        "## Integer\n",
        "a = 100\n",
        "print(a,type(a))"
      ],
      "metadata": {
        "colab": {
          "base_uri": "https://localhost:8080/"
        },
        "id": "uD6jagdARQS_",
        "outputId": "36a5f12f-aa28-45c4-a71c-004cad2b1407"
      },
      "execution_count": 11,
      "outputs": [
        {
          "output_type": "stream",
          "name": "stdout",
          "text": [
            "100 <class 'int'>\n"
          ]
        }
      ]
    },
    {
      "cell_type": "code",
      "source": [
        "## Float\n",
        "b = 6.1\n",
        "print(b,type(b))"
      ],
      "metadata": {
        "colab": {
          "base_uri": "https://localhost:8080/"
        },
        "id": "bl4IL2dKRdeK",
        "outputId": "52742c7c-82c5-4a79-b30a-c7c532394ba9"
      },
      "execution_count": 12,
      "outputs": [
        {
          "output_type": "stream",
          "name": "stdout",
          "text": [
            "6.1 <class 'float'>\n"
          ]
        }
      ]
    },
    {
      "cell_type": "code",
      "source": [
        "## Boolean\n",
        "isMale = True\n",
        "print(isMale,type(isMale))"
      ],
      "metadata": {
        "colab": {
          "base_uri": "https://localhost:8080/"
        },
        "id": "XTkD11g9Rhhs",
        "outputId": "e11f16da-ba95-48e4-a8b3-22465fcc4b98"
      },
      "execution_count": 13,
      "outputs": [
        {
          "output_type": "stream",
          "name": "stdout",
          "text": [
            "True <class 'bool'>\n"
          ]
        }
      ]
    },
    {
      "cell_type": "code",
      "source": [
        "## String\n",
        "text = \"Hi! I am Aarush\"\n",
        "print(text,type(text))"
      ],
      "metadata": {
        "colab": {
          "base_uri": "https://localhost:8080/"
        },
        "id": "oWQkhtmERmH3",
        "outputId": "bb4ea746-98cc-4266-dfb1-60e433da4c9c"
      },
      "execution_count": 14,
      "outputs": [
        {
          "output_type": "stream",
          "name": "stdout",
          "text": [
            "Hi! I am Aarush <class 'str'>\n"
          ]
        }
      ]
    },
    {
      "cell_type": "code",
      "source": [
        "## Complex Number\n",
        "c = 4 + 5j\n",
        "print(c,type(c))"
      ],
      "metadata": {
        "colab": {
          "base_uri": "https://localhost:8080/"
        },
        "id": "X6EsEXM9Rt08",
        "outputId": "55dcda9c-c234-427e-96cd-f184b7a9a4a3"
      },
      "execution_count": 15,
      "outputs": [
        {
          "output_type": "stream",
          "name": "stdout",
          "text": [
            "(4+5j) <class 'complex'>\n"
          ]
        }
      ]
    },
    {
      "cell_type": "markdown",
      "source": [
        "None is a special datatype which is used in Python.In Python,we cannot declare variables without initializing them as variables are just pointers they are not memory blocks that require space that's why we use None datatype to allocate variables or declare them"
      ],
      "metadata": {
        "id": "qmOakk8cR3Lw"
      }
    },
    {
      "cell_type": "code",
      "source": [
        "## None\n",
        "z = None"
      ],
      "metadata": {
        "id": "6l6pLXTYRzMv"
      },
      "execution_count": 16,
      "outputs": []
    },
    {
      "cell_type": "markdown",
      "source": [
        "### Operators"
      ],
      "metadata": {
        "id": "7c9Befq0SQz7"
      }
    },
    {
      "cell_type": "markdown",
      "source": [
        "Operators provide a method for manipulating values based on the input data"
      ],
      "metadata": {
        "id": "HPBFrTf8SSeg"
      }
    },
    {
      "cell_type": "code",
      "source": [
        "## Arithmetic Operators\n",
        "a , b = int(input('Enter the first value')) , int(input('Enter the second value'))\n",
        "\n",
        "text = input('Choose the operation you want to perform (\"+\",\"-\",\"*\",\"/\",\"//\",\"%\",\"**\")')\n",
        "\n",
        "if text == '+':\n",
        "  print(f\"The result of a + b is : {a+b}\")\n",
        "elif text == '-':\n",
        "  print(f\"The result of a - b is : {a-b}\")\n",
        "elif text == '*':\n",
        "  print(f\"The result of a * b is : {a*b}\")\n",
        "elif text == '/':\n",
        "  print(f\"The result of a / b is : {a/b}\")\n",
        "elif text == '//':\n",
        "  print(f\"The result of a // b is : {a//b}\")\n",
        "elif text == '%':\n",
        "  print(f\"The result of a % b is : {a%b}\")\n",
        "elif text == '**':\n",
        "  print(f\"The result of a ** b is : {a**b}\")\n",
        "else:\n",
        "  print(f\"Invalid Operation\")"
      ],
      "metadata": {
        "colab": {
          "base_uri": "https://localhost:8080/"
        },
        "id": "SiVdy-jFSLdf",
        "outputId": "0d568828-7f44-435b-9738-de9af6aed5c5"
      },
      "execution_count": 17,
      "outputs": [
        {
          "output_type": "stream",
          "name": "stdout",
          "text": [
            "Enter the first value43\n",
            "Enter the second value26\n",
            "Choose the operation you want to perform (\"+\",\"-\",\"*\",\"/\",\"//\",\"%\",\"**\")/\n",
            "The result of a / b is : 1.6538461538461537\n"
          ]
        }
      ]
    },
    {
      "cell_type": "code",
      "source": [
        "## Relational Operators\n",
        "a , b = int(input('Enter the 1st number')) , int(input('Enter the 2nd number'))\n",
        "\n",
        "text = (input('Enter the operation you want to perform (\">\",\"<\",\">=\",\"<=\",\"==\",\"!=\"'))\n",
        "\n",
        "if text == '>':\n",
        "  print(f\"The operation is greater than and the result for a > b is : {a>b}\")\n",
        "elif text == '<':\n",
        "  print(f\"The operation is less than and the result for a < b is : {a<b}\")\n",
        "elif text == '>=':\n",
        "  print(f\"The operation is greater than or equal to and the result for a >= b is : {a>=b}\")\n",
        "elif text == '<=':\n",
        "  print(f\"The operation is less than or equal to and the result for a <= b is : {a<=b}\")\n",
        "elif text == '==':\n",
        "  print(f\"The operation is equal to equal to and we are checking if a and b have equal value stored in them : {a==b}\")\n",
        "elif text == '!=':\n",
        "  print(f\"The operation is not equal to and the values on comparsion are not equal : {a != b}\")\n"
      ],
      "metadata": {
        "colab": {
          "base_uri": "https://localhost:8080/"
        },
        "id": "Jn0LGTExTY2k",
        "outputId": "545301d2-1501-4c21-eaf9-4e63a3f47ba0"
      },
      "execution_count": 19,
      "outputs": [
        {
          "output_type": "stream",
          "name": "stdout",
          "text": [
            "Enter the 1st number43\n",
            "Enter the 2nd number73\n",
            "Enter the operation you want to perform (\">\",\"<\",\">=\",\"<=\",\"==\",\"!=\"!=\n",
            "The operation is not equal to and the values on comparsion are not equal : True\n"
          ]
        }
      ]
    },
    {
      "cell_type": "code",
      "source": [
        "## Logical Operators\n",
        "X = True\n",
        "Y = False\n",
        "print(X and Y)\n",
        "print(X or Y)\n",
        "print(not X)\n",
        "print(not Y)"
      ],
      "metadata": {
        "colab": {
          "base_uri": "https://localhost:8080/"
        },
        "id": "HaDeJCtjU1Us",
        "outputId": "f2586107-2f0f-447e-dedb-9fa810755a24"
      },
      "execution_count": 20,
      "outputs": [
        {
          "output_type": "stream",
          "name": "stdout",
          "text": [
            "False\n",
            "True\n",
            "False\n",
            "True\n"
          ]
        }
      ]
    },
    {
      "cell_type": "code",
      "source": [
        "## Special operators\n",
        "if 'D' in 'Delhi':\n",
        "  print(f\"The letter 'D' is present in Delhi\")\n",
        "elif 'A' not in 'Aarush':\n",
        "  print(\"This is not true\")"
      ],
      "metadata": {
        "colab": {
          "base_uri": "https://localhost:8080/"
        },
        "id": "Eh2hnn3GVKBp",
        "outputId": "e8b7a742-a7f2-4132-a89d-72728ff5a0e2"
      },
      "execution_count": 21,
      "outputs": [
        {
          "output_type": "stream",
          "name": "stdout",
          "text": [
            "The letter 'D' is present in Delhi\n"
          ]
        }
      ]
    },
    {
      "cell_type": "code",
      "source": [
        "## Assignment Operator\n",
        "a = 500\n",
        "print(a,type(a))"
      ],
      "metadata": {
        "colab": {
          "base_uri": "https://localhost:8080/"
        },
        "id": "K7Ofzpa5VkPE",
        "outputId": "25f9c1b1-bf99-4462-9133-3367a5c2c1e3"
      },
      "execution_count": 22,
      "outputs": [
        {
          "output_type": "stream",
          "name": "stdout",
          "text": [
            "500 <class 'int'>\n"
          ]
        }
      ]
    },
    {
      "cell_type": "markdown",
      "source": [
        "## Loops"
      ],
      "metadata": {
        "id": "Y_7D1husWA7b"
      }
    },
    {
      "cell_type": "markdown",
      "source": [
        "Loops in Python are very essential and fundamental.Whenever we encounter a task, where we are supposed to do or repeat a certain group of actions again and again till a condition is being satisfied we can replace that with the help of a loop.A loop is used for such purposes.\n",
        "A loop has three parts:-\n",
        "  1.Intialization of looping variable : This requires intializing a looping variable which is used to keep track of how many times I have repeated a group of actions and from where did I start the loop and to compare with the condition when we will stop executing.\n",
        "  2.Condition Check : We will check the looping variable with condition.This will tell us till when we have to repeat our group of actions.\n",
        "  3.Updation : When we execute our group of actions,we will update our looping variable to keep a track that now we have to perform the task a certain less number of times and we have performed a certain number of times"
      ],
      "metadata": {
        "id": "IZ2nmNa-WC8l"
      }
    },
    {
      "cell_type": "code",
      "source": [
        "## for loop\n",
        "## range function - It is used to provide a sequence of numbers from the start specificed till the end - 1\n",
        "for i in range(100):\n",
        "  print(i)"
      ],
      "metadata": {
        "colab": {
          "base_uri": "https://localhost:8080/"
        },
        "id": "GBA3hjHzWClR",
        "outputId": "ee58239c-517d-418b-b6d1-0d2ece8cfa51"
      },
      "execution_count": 23,
      "outputs": [
        {
          "output_type": "stream",
          "name": "stdout",
          "text": [
            "0\n",
            "1\n",
            "2\n",
            "3\n",
            "4\n",
            "5\n",
            "6\n",
            "7\n",
            "8\n",
            "9\n",
            "10\n",
            "11\n",
            "12\n",
            "13\n",
            "14\n",
            "15\n",
            "16\n",
            "17\n",
            "18\n",
            "19\n",
            "20\n",
            "21\n",
            "22\n",
            "23\n",
            "24\n",
            "25\n",
            "26\n",
            "27\n",
            "28\n",
            "29\n",
            "30\n",
            "31\n",
            "32\n",
            "33\n",
            "34\n",
            "35\n",
            "36\n",
            "37\n",
            "38\n",
            "39\n",
            "40\n",
            "41\n",
            "42\n",
            "43\n",
            "44\n",
            "45\n",
            "46\n",
            "47\n",
            "48\n",
            "49\n",
            "50\n",
            "51\n",
            "52\n",
            "53\n",
            "54\n",
            "55\n",
            "56\n",
            "57\n",
            "58\n",
            "59\n",
            "60\n",
            "61\n",
            "62\n",
            "63\n",
            "64\n",
            "65\n",
            "66\n",
            "67\n",
            "68\n",
            "69\n",
            "70\n",
            "71\n",
            "72\n",
            "73\n",
            "74\n",
            "75\n",
            "76\n",
            "77\n",
            "78\n",
            "79\n",
            "80\n",
            "81\n",
            "82\n",
            "83\n",
            "84\n",
            "85\n",
            "86\n",
            "87\n",
            "88\n",
            "89\n",
            "90\n",
            "91\n",
            "92\n",
            "93\n",
            "94\n",
            "95\n",
            "96\n",
            "97\n",
            "98\n",
            "99\n"
          ]
        }
      ]
    },
    {
      "cell_type": "code",
      "source": [
        "for i in range(5,100,8):\n",
        "  print(i)"
      ],
      "metadata": {
        "colab": {
          "base_uri": "https://localhost:8080/"
        },
        "id": "YszaKkEoXeX0",
        "outputId": "8af84ee2-35c7-4b72-b3c5-e6f62d2575e6"
      },
      "execution_count": 24,
      "outputs": [
        {
          "output_type": "stream",
          "name": "stdout",
          "text": [
            "5\n",
            "13\n",
            "21\n",
            "29\n",
            "37\n",
            "45\n",
            "53\n",
            "61\n",
            "69\n",
            "77\n",
            "85\n",
            "93\n"
          ]
        }
      ]
    },
    {
      "cell_type": "code",
      "source": [
        "for char in 'Delhi':\n",
        "  print(char)"
      ],
      "metadata": {
        "colab": {
          "base_uri": "https://localhost:8080/"
        },
        "id": "VRwCn2ZnXkzL",
        "outputId": "48be95c6-2aec-4ace-cf2c-ce485517771c"
      },
      "execution_count": 25,
      "outputs": [
        {
          "output_type": "stream",
          "name": "stdout",
          "text": [
            "D\n",
            "e\n",
            "l\n",
            "h\n",
            "i\n"
          ]
        }
      ]
    },
    {
      "cell_type": "code",
      "source": [
        "## while loop\n",
        "i = 1\n",
        "while(i<=100):\n",
        "  print(i)\n",
        "  i = i + 1"
      ],
      "metadata": {
        "colab": {
          "base_uri": "https://localhost:8080/"
        },
        "id": "AzmPWAsWXppc",
        "outputId": "1e58ceb3-e3e8-43eb-d95a-030f831fd913"
      },
      "execution_count": 26,
      "outputs": [
        {
          "output_type": "stream",
          "name": "stdout",
          "text": [
            "1\n",
            "2\n",
            "3\n",
            "4\n",
            "5\n",
            "6\n",
            "7\n",
            "8\n",
            "9\n",
            "10\n",
            "11\n",
            "12\n",
            "13\n",
            "14\n",
            "15\n",
            "16\n",
            "17\n",
            "18\n",
            "19\n",
            "20\n",
            "21\n",
            "22\n",
            "23\n",
            "24\n",
            "25\n",
            "26\n",
            "27\n",
            "28\n",
            "29\n",
            "30\n",
            "31\n",
            "32\n",
            "33\n",
            "34\n",
            "35\n",
            "36\n",
            "37\n",
            "38\n",
            "39\n",
            "40\n",
            "41\n",
            "42\n",
            "43\n",
            "44\n",
            "45\n",
            "46\n",
            "47\n",
            "48\n",
            "49\n",
            "50\n",
            "51\n",
            "52\n",
            "53\n",
            "54\n",
            "55\n",
            "56\n",
            "57\n",
            "58\n",
            "59\n",
            "60\n",
            "61\n",
            "62\n",
            "63\n",
            "64\n",
            "65\n",
            "66\n",
            "67\n",
            "68\n",
            "69\n",
            "70\n",
            "71\n",
            "72\n",
            "73\n",
            "74\n",
            "75\n",
            "76\n",
            "77\n",
            "78\n",
            "79\n",
            "80\n",
            "81\n",
            "82\n",
            "83\n",
            "84\n",
            "85\n",
            "86\n",
            "87\n",
            "88\n",
            "89\n",
            "90\n",
            "91\n",
            "92\n",
            "93\n",
            "94\n",
            "95\n",
            "96\n",
            "97\n",
            "98\n",
            "99\n",
            "100\n"
          ]
        }
      ]
    },
    {
      "cell_type": "code",
      "source": [
        "## while loop with else\n",
        "i = 1\n",
        "while (i <= 100):\n",
        "  print(i)\n",
        "  i = i + 1\n",
        "else:\n",
        "  print(f\"We are now outside while loop\")"
      ],
      "metadata": {
        "colab": {
          "base_uri": "https://localhost:8080/"
        },
        "id": "cdFM0SwbXxmx",
        "outputId": "1cff78ff-6703-4731-d7c5-79e67f9c3269"
      },
      "execution_count": 27,
      "outputs": [
        {
          "output_type": "stream",
          "name": "stdout",
          "text": [
            "1\n",
            "2\n",
            "3\n",
            "4\n",
            "5\n",
            "6\n",
            "7\n",
            "8\n",
            "9\n",
            "10\n",
            "11\n",
            "12\n",
            "13\n",
            "14\n",
            "15\n",
            "16\n",
            "17\n",
            "18\n",
            "19\n",
            "20\n",
            "21\n",
            "22\n",
            "23\n",
            "24\n",
            "25\n",
            "26\n",
            "27\n",
            "28\n",
            "29\n",
            "30\n",
            "31\n",
            "32\n",
            "33\n",
            "34\n",
            "35\n",
            "36\n",
            "37\n",
            "38\n",
            "39\n",
            "40\n",
            "41\n",
            "42\n",
            "43\n",
            "44\n",
            "45\n",
            "46\n",
            "47\n",
            "48\n",
            "49\n",
            "50\n",
            "51\n",
            "52\n",
            "53\n",
            "54\n",
            "55\n",
            "56\n",
            "57\n",
            "58\n",
            "59\n",
            "60\n",
            "61\n",
            "62\n",
            "63\n",
            "64\n",
            "65\n",
            "66\n",
            "67\n",
            "68\n",
            "69\n",
            "70\n",
            "71\n",
            "72\n",
            "73\n",
            "74\n",
            "75\n",
            "76\n",
            "77\n",
            "78\n",
            "79\n",
            "80\n",
            "81\n",
            "82\n",
            "83\n",
            "84\n",
            "85\n",
            "86\n",
            "87\n",
            "88\n",
            "89\n",
            "90\n",
            "91\n",
            "92\n",
            "93\n",
            "94\n",
            "95\n",
            "96\n",
            "97\n",
            "98\n",
            "99\n",
            "100\n",
            "We are now outside while loop\n"
          ]
        }
      ]
    },
    {
      "cell_type": "markdown",
      "source": [
        "### Loop control statements"
      ],
      "metadata": {
        "id": "oLPSst2DX_PM"
      }
    },
    {
      "cell_type": "code",
      "source": [
        "## break\n",
        "for i in range(1,100):\n",
        "  if i == 50:\n",
        "    break\n",
        "  print(i)"
      ],
      "metadata": {
        "colab": {
          "base_uri": "https://localhost:8080/"
        },
        "id": "m9ezwQp5YAzr",
        "outputId": "bf119314-ea66-4291-d184-41f812934138"
      },
      "execution_count": 28,
      "outputs": [
        {
          "output_type": "stream",
          "name": "stdout",
          "text": [
            "1\n",
            "2\n",
            "3\n",
            "4\n",
            "5\n",
            "6\n",
            "7\n",
            "8\n",
            "9\n",
            "10\n",
            "11\n",
            "12\n",
            "13\n",
            "14\n",
            "15\n",
            "16\n",
            "17\n",
            "18\n",
            "19\n",
            "20\n",
            "21\n",
            "22\n",
            "23\n",
            "24\n",
            "25\n",
            "26\n",
            "27\n",
            "28\n",
            "29\n",
            "30\n",
            "31\n",
            "32\n",
            "33\n",
            "34\n",
            "35\n",
            "36\n",
            "37\n",
            "38\n",
            "39\n",
            "40\n",
            "41\n",
            "42\n",
            "43\n",
            "44\n",
            "45\n",
            "46\n",
            "47\n",
            "48\n",
            "49\n"
          ]
        }
      ]
    },
    {
      "cell_type": "code",
      "source": [
        "## continue\n",
        "for i in range(1,40,1):\n",
        "  if i == 6:\n",
        "    continue\n",
        "  print(i)"
      ],
      "metadata": {
        "colab": {
          "base_uri": "https://localhost:8080/"
        },
        "id": "TXNecZHQYHD8",
        "outputId": "65aa7834-8710-4683-f68c-eb709f73fec3"
      },
      "execution_count": 29,
      "outputs": [
        {
          "output_type": "stream",
          "name": "stdout",
          "text": [
            "1\n",
            "2\n",
            "3\n",
            "4\n",
            "5\n",
            "7\n",
            "8\n",
            "9\n",
            "10\n",
            "11\n",
            "12\n",
            "13\n",
            "14\n",
            "15\n",
            "16\n",
            "17\n",
            "18\n",
            "19\n",
            "20\n",
            "21\n",
            "22\n",
            "23\n",
            "24\n",
            "25\n",
            "26\n",
            "27\n",
            "28\n",
            "29\n",
            "30\n",
            "31\n",
            "32\n",
            "33\n",
            "34\n",
            "35\n",
            "36\n",
            "37\n",
            "38\n",
            "39\n"
          ]
        }
      ]
    },
    {
      "cell_type": "code",
      "source": [
        "## pass statement\n",
        "for i in range(1,100):\n",
        "  if i == 3:\n",
        "    print(\"I am Aarush\")\n",
        "    pass\n",
        "  print(i)"
      ],
      "metadata": {
        "colab": {
          "base_uri": "https://localhost:8080/"
        },
        "id": "Ush6V1UBYNXZ",
        "outputId": "839b6ca5-2014-488b-cd87-aa27b9567db0"
      },
      "execution_count": 30,
      "outputs": [
        {
          "output_type": "stream",
          "name": "stdout",
          "text": [
            "1\n",
            "2\n",
            "I am Aarush\n",
            "3\n",
            "4\n",
            "5\n",
            "6\n",
            "7\n",
            "8\n",
            "9\n",
            "10\n",
            "11\n",
            "12\n",
            "13\n",
            "14\n",
            "15\n",
            "16\n",
            "17\n",
            "18\n",
            "19\n",
            "20\n",
            "21\n",
            "22\n",
            "23\n",
            "24\n",
            "25\n",
            "26\n",
            "27\n",
            "28\n",
            "29\n",
            "30\n",
            "31\n",
            "32\n",
            "33\n",
            "34\n",
            "35\n",
            "36\n",
            "37\n",
            "38\n",
            "39\n",
            "40\n",
            "41\n",
            "42\n",
            "43\n",
            "44\n",
            "45\n",
            "46\n",
            "47\n",
            "48\n",
            "49\n",
            "50\n",
            "51\n",
            "52\n",
            "53\n",
            "54\n",
            "55\n",
            "56\n",
            "57\n",
            "58\n",
            "59\n",
            "60\n",
            "61\n",
            "62\n",
            "63\n",
            "64\n",
            "65\n",
            "66\n",
            "67\n",
            "68\n",
            "69\n",
            "70\n",
            "71\n",
            "72\n",
            "73\n",
            "74\n",
            "75\n",
            "76\n",
            "77\n",
            "78\n",
            "79\n",
            "80\n",
            "81\n",
            "82\n",
            "83\n",
            "84\n",
            "85\n",
            "86\n",
            "87\n",
            "88\n",
            "89\n",
            "90\n",
            "91\n",
            "92\n",
            "93\n",
            "94\n",
            "95\n",
            "96\n",
            "97\n",
            "98\n",
            "99\n"
          ]
        }
      ]
    }
  ]
}