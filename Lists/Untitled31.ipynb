{
  "nbformat": 4,
  "nbformat_minor": 0,
  "metadata": {
    "colab": {
      "provenance": []
    },
    "kernelspec": {
      "name": "python3",
      "display_name": "Python 3"
    },
    "language_info": {
      "name": "python"
    }
  },
  "cells": [
    {
      "cell_type": "markdown",
      "source": [
        "# Lists\n"
      ],
      "metadata": {
        "id": "pY2xlwjxZJjh"
      }
    },
    {
      "cell_type": "markdown",
      "source": [
        "Lists are a data structure which are a way to store data in a certain format.\n",
        "Lists are ordered,mutable collection of items of different datatypes."
      ],
      "metadata": {
        "id": "0bRbx3u7ZO0u"
      }
    },
    {
      "cell_type": "code",
      "execution_count": 1,
      "metadata": {
        "colab": {
          "base_uri": "https://localhost:8080/"
        },
        "id": "NK2j6zoaZIH5",
        "outputId": "4c2b2132-2d80-49fa-96cf-f29c4ca33dd2"
      },
      "outputs": [
        {
          "output_type": "stream",
          "name": "stdout",
          "text": [
            "['Aarush', 5.7, 22, True] <class 'list'>\n"
          ]
        }
      ],
      "source": [
        "lst = [\"Aarush\",5.7,22,True]\n",
        "print(lst,type(lst))"
      ]
    },
    {
      "cell_type": "code",
      "source": [
        "## Empty list\n",
        "temp_lst = []\n",
        "print(temp_lst,type(temp_lst))"
      ],
      "metadata": {
        "colab": {
          "base_uri": "https://localhost:8080/"
        },
        "id": "cyxFk4XvZvEE",
        "outputId": "108605de-ed61-496a-893b-cc5f4b23fcd4"
      },
      "execution_count": 2,
      "outputs": [
        {
          "output_type": "stream",
          "name": "stdout",
          "text": [
            "[] <class 'list'>\n"
          ]
        }
      ]
    },
    {
      "cell_type": "code",
      "source": [
        "## Finding number of elements in a list\n",
        "print(len(lst))"
      ],
      "metadata": {
        "colab": {
          "base_uri": "https://localhost:8080/"
        },
        "id": "CdoJ_fnrZ16t",
        "outputId": "f9c42bc7-6175-496d-d3b3-ed2d04493026"
      },
      "execution_count": 3,
      "outputs": [
        {
          "output_type": "stream",
          "name": "stdout",
          "text": [
            "4\n"
          ]
        }
      ]
    },
    {
      "cell_type": "markdown",
      "source": [
        "### Indexing"
      ],
      "metadata": {
        "id": "YpO87c3MaBUb"
      }
    },
    {
      "cell_type": "markdown",
      "source": [
        "We can access elements of a list as each element has a unique name in the list and we call it list_name[index]"
      ],
      "metadata": {
        "id": "p8Ab_rFpaC4Z"
      }
    },
    {
      "cell_type": "code",
      "source": [
        "print(lst[0])\n",
        "print(lst[1])\n",
        "print(lst[2])\n",
        "print(lst[3])"
      ],
      "metadata": {
        "colab": {
          "base_uri": "https://localhost:8080/"
        },
        "id": "QJ8QR4JiaCM6",
        "outputId": "ee57ad56-2f62-4d6a-f2bc-cd32289e1876"
      },
      "execution_count": 4,
      "outputs": [
        {
          "output_type": "stream",
          "name": "stdout",
          "text": [
            "Aarush\n",
            "5.7\n",
            "22\n",
            "True\n"
          ]
        }
      ]
    },
    {
      "cell_type": "markdown",
      "source": [
        "Indexing can be of two types:\n",
        "  1. Positive Indexing\n",
        "  2. Negative Indexing"
      ],
      "metadata": {
        "id": "ATR18iPOaSUP"
      }
    },
    {
      "cell_type": "code",
      "source": [
        "print(lst[-1])"
      ],
      "metadata": {
        "colab": {
          "base_uri": "https://localhost:8080/"
        },
        "id": "11EB8GLWaY2a",
        "outputId": "310a6846-0e6b-4d19-f672-a89715c34f92"
      },
      "execution_count": 5,
      "outputs": [
        {
          "output_type": "stream",
          "name": "stdout",
          "text": [
            "True\n"
          ]
        }
      ]
    },
    {
      "cell_type": "markdown",
      "source": [
        "### Slicing a list"
      ],
      "metadata": {
        "id": "SzIb2-ueaek8"
      }
    },
    {
      "cell_type": "markdown",
      "source": [
        "Slicing a list means taking out a continous subpart of the list"
      ],
      "metadata": {
        "id": "BQeJjvvKajm_"
      }
    },
    {
      "cell_type": "code",
      "source": [
        "print(lst[:])\n",
        "print(lst[2:])\n",
        "print(lst[:2])\n",
        "print(lst[::-1])\n",
        "print(lst[1:3])"
      ],
      "metadata": {
        "colab": {
          "base_uri": "https://localhost:8080/"
        },
        "id": "yxntW9FVae2y",
        "outputId": "1501a069-abad-4fbf-fe69-8705f10e9c92"
      },
      "execution_count": 6,
      "outputs": [
        {
          "output_type": "stream",
          "name": "stdout",
          "text": [
            "['Aarush', 5.7, 22, True]\n",
            "[22, True]\n",
            "['Aarush', 5.7]\n",
            "[True, 22, 5.7, 'Aarush']\n",
            "[5.7, 22]\n"
          ]
        }
      ]
    },
    {
      "cell_type": "markdown",
      "source": [
        "### Modifying items"
      ],
      "metadata": {
        "id": "Rrt6rzyobKHp"
      }
    },
    {
      "cell_type": "code",
      "source": [
        "lst[1] = 82\n",
        "print(lst,type(lst))\n",
        "lst[2:]='Sachdeva'\n",
        "print(lst,type(lst))"
      ],
      "metadata": {
        "colab": {
          "base_uri": "https://localhost:8080/"
        },
        "id": "uC5nzo5HbLuI",
        "outputId": "bc1b4fdc-7c74-4d31-ec71-062cafc8cbb5"
      },
      "execution_count": 7,
      "outputs": [
        {
          "output_type": "stream",
          "name": "stdout",
          "text": [
            "['Aarush', 82, 22, True] <class 'list'>\n",
            "['Aarush', 82, 'S', 'a', 'c', 'h', 'd', 'e', 'v', 'a'] <class 'list'>\n"
          ]
        }
      ]
    },
    {
      "cell_type": "markdown",
      "source": [
        "### List Methods"
      ],
      "metadata": {
        "id": "oS119o_ibYhI"
      }
    },
    {
      "cell_type": "code",
      "source": [
        "## Append - This is used to add elements to the end of a list\n",
        "lst.append('80 lakhs')\n",
        "print(lst,type(lst))"
      ],
      "metadata": {
        "colab": {
          "base_uri": "https://localhost:8080/"
        },
        "id": "qjtQxxZMbZwS",
        "outputId": "3b05c012-c7b4-4cf7-efcf-5329400553c2"
      },
      "execution_count": 8,
      "outputs": [
        {
          "output_type": "stream",
          "name": "stdout",
          "text": [
            "['Aarush', 82, 'S', 'a', 'c', 'h', 'd', 'e', 'v', 'a', '80 lakhs'] <class 'list'>\n"
          ]
        }
      ]
    },
    {
      "cell_type": "code",
      "source": [
        "## Insert - This is used to insert a specific element at any position given by the programmer\n",
        "lst.insert(2,'Krish Naik')\n",
        "print(lst,type(lst))"
      ],
      "metadata": {
        "colab": {
          "base_uri": "https://localhost:8080/"
        },
        "id": "HzP_z6NYbjh9",
        "outputId": "ca0e6a1b-93ba-427b-e99c-56b11405f601"
      },
      "execution_count": 9,
      "outputs": [
        {
          "output_type": "stream",
          "name": "stdout",
          "text": [
            "['Aarush', 82, 'Krish Naik', 'S', 'a', 'c', 'h', 'd', 'e', 'v', 'a', '80 lakhs'] <class 'list'>\n"
          ]
        }
      ]
    },
    {
      "cell_type": "code",
      "source": [
        "## Remove - This method removes the first occurence of the value provided\n",
        "lst.remove(82)\n",
        "print(lst)"
      ],
      "metadata": {
        "colab": {
          "base_uri": "https://localhost:8080/"
        },
        "id": "80yifj77b17u",
        "outputId": "30386123-aa24-4810-ebd1-17d46963906f"
      },
      "execution_count": 10,
      "outputs": [
        {
          "output_type": "stream",
          "name": "stdout",
          "text": [
            "['Aarush', 'Krish Naik', 'S', 'a', 'c', 'h', 'd', 'e', 'v', 'a', '80 lakhs']\n"
          ]
        }
      ]
    },
    {
      "cell_type": "code",
      "source": [
        "## pop - This removes the last item of the list and returns it's value\n",
        "value = lst.pop()\n",
        "print(value)"
      ],
      "metadata": {
        "colab": {
          "base_uri": "https://localhost:8080/"
        },
        "id": "0Srq0vXagL5a",
        "outputId": "c940bd81-d07c-4acc-bc28-2693679db70d"
      },
      "execution_count": 11,
      "outputs": [
        {
          "output_type": "stream",
          "name": "stdout",
          "text": [
            "80 lakhs\n"
          ]
        }
      ]
    },
    {
      "cell_type": "code",
      "source": [
        "## index - It is used to find index of a particular value\n",
        "indice = lst.index('Krish Naik')\n",
        "print(indice)"
      ],
      "metadata": {
        "colab": {
          "base_uri": "https://localhost:8080/"
        },
        "id": "K1BVmYMFgUeV",
        "outputId": "4e1fd718-3ec0-4a56-c466-b0584db88684"
      },
      "execution_count": 12,
      "outputs": [
        {
          "output_type": "stream",
          "name": "stdout",
          "text": [
            "1\n"
          ]
        }
      ]
    },
    {
      "cell_type": "code",
      "source": [
        "## count - This is used to tell the frequency of an element in a list\n",
        "counter = lst.count('d')\n",
        "print(counter)"
      ],
      "metadata": {
        "colab": {
          "base_uri": "https://localhost:8080/"
        },
        "id": "alsVha3dgeV5",
        "outputId": "c9b4308b-cfd0-4f03-e8cd-22d8f98c7991"
      },
      "execution_count": 13,
      "outputs": [
        {
          "output_type": "stream",
          "name": "stdout",
          "text": [
            "1\n"
          ]
        }
      ]
    },
    {
      "cell_type": "code",
      "source": [
        "## sort\n",
        "lst = [\"english\",\"hindi\",\"french\",\"marathi\"]\n",
        "lst.sort()"
      ],
      "metadata": {
        "id": "0APLtmZFgoip"
      },
      "execution_count": 17,
      "outputs": []
    },
    {
      "cell_type": "code",
      "source": [
        "print(lst)"
      ],
      "metadata": {
        "colab": {
          "base_uri": "https://localhost:8080/"
        },
        "id": "U6C-YXE4g65z",
        "outputId": "bc4a6651-56db-447c-b4f0-f243d96797a2"
      },
      "execution_count": 18,
      "outputs": [
        {
          "output_type": "stream",
          "name": "stdout",
          "text": [
            "['english', 'french', 'hindi', 'marathi']\n"
          ]
        }
      ]
    },
    {
      "cell_type": "code",
      "source": [
        "## reverse\n",
        "lst.reverse()\n",
        "print(lst)"
      ],
      "metadata": {
        "colab": {
          "base_uri": "https://localhost:8080/"
        },
        "id": "lcJm0aYKg-PB",
        "outputId": "3a8334c3-ec53-4d29-9ec3-f5653e58da07"
      },
      "execution_count": 19,
      "outputs": [
        {
          "output_type": "stream",
          "name": "stdout",
          "text": [
            "['marathi', 'hindi', 'french', 'english']\n"
          ]
        }
      ]
    },
    {
      "cell_type": "code",
      "source": [
        "## clear - removes all elements in a list\n",
        "lst.clear()\n",
        "print(lst)"
      ],
      "metadata": {
        "colab": {
          "base_uri": "https://localhost:8080/"
        },
        "id": "vjRQn7wAhDMo",
        "outputId": "100ed8a7-b5a4-49f8-a363-6f96e9b35deb"
      },
      "execution_count": 20,
      "outputs": [
        {
          "output_type": "stream",
          "name": "stdout",
          "text": [
            "[]\n"
          ]
        }
      ]
    },
    {
      "cell_type": "markdown",
      "source": [
        "## Enumerate function"
      ],
      "metadata": {
        "id": "-VclJZeThTSM"
      }
    },
    {
      "cell_type": "code",
      "source": [
        "## If we want to iterate on the index and value of an element simulatenously we use this function\n",
        "lst = [1,2,3,4,5,6,7,8,9,10]\n",
        "for index,value in enumerate(lst):\n",
        "  print(f\"index : {index} and value : {value}\")"
      ],
      "metadata": {
        "colab": {
          "base_uri": "https://localhost:8080/"
        },
        "id": "7ngD0pdAhXWW",
        "outputId": "ba366d73-d476-4188-ce97-7447b0ad1f77"
      },
      "execution_count": 21,
      "outputs": [
        {
          "output_type": "stream",
          "name": "stdout",
          "text": [
            "index : 0 and value : 1\n",
            "index : 1 and value : 2\n",
            "index : 2 and value : 3\n",
            "index : 3 and value : 4\n",
            "index : 4 and value : 5\n",
            "index : 5 and value : 6\n",
            "index : 6 and value : 7\n",
            "index : 7 and value : 8\n",
            "index : 8 and value : 9\n",
            "index : 9 and value : 10\n"
          ]
        }
      ]
    },
    {
      "cell_type": "markdown",
      "source": [
        "## List Comprehension"
      ],
      "metadata": {
        "id": "RD5afM45hy4Z"
      }
    },
    {
      "cell_type": "code",
      "source": [
        "## It is a powerful way of creating desired lists in just one single line of code"
      ],
      "metadata": {
        "id": "FEAVKzsjh1h1"
      },
      "execution_count": 22,
      "outputs": []
    },
    {
      "cell_type": "code",
      "source": [
        "squared_list = [x**2 for x in lst]"
      ],
      "metadata": {
        "id": "wCmbBosdh0R2"
      },
      "execution_count": 23,
      "outputs": []
    },
    {
      "cell_type": "code",
      "source": [
        "print(squared_list)"
      ],
      "metadata": {
        "colab": {
          "base_uri": "https://localhost:8080/"
        },
        "id": "gls_M5j9iH_w",
        "outputId": "f64dfc41-cb7b-4977-f5f5-09171251a1cd"
      },
      "execution_count": 24,
      "outputs": [
        {
          "output_type": "stream",
          "name": "stdout",
          "text": [
            "[1, 4, 9, 16, 25, 36, 49, 64, 81, 100]\n"
          ]
        }
      ]
    },
    {
      "cell_type": "code",
      "source": [
        "def ranged_prime(start,end):\n",
        "  i = start\n",
        "  while(i <= end):\n",
        "    flag = True\n",
        "    for j in range(2,i):\n",
        "      if i % j == 0:\n",
        "        flag = False\n",
        "    if flag:\n",
        "      print(f\"Prime number : {i}\")\n",
        "    i = i + 1\n",
        "ranged_prime(2,100)"
      ],
      "metadata": {
        "colab": {
          "base_uri": "https://localhost:8080/"
        },
        "id": "c3S1FbhniMfL",
        "outputId": "ce8c6a1e-1978-471a-e006-90efb3ac7d12"
      },
      "execution_count": 26,
      "outputs": [
        {
          "output_type": "stream",
          "name": "stdout",
          "text": [
            "Prime number : 2\n",
            "Prime number : 3\n",
            "Prime number : 5\n",
            "Prime number : 7\n",
            "Prime number : 11\n",
            "Prime number : 13\n",
            "Prime number : 17\n",
            "Prime number : 19\n",
            "Prime number : 23\n",
            "Prime number : 29\n",
            "Prime number : 31\n",
            "Prime number : 37\n",
            "Prime number : 41\n",
            "Prime number : 43\n",
            "Prime number : 47\n",
            "Prime number : 53\n",
            "Prime number : 59\n",
            "Prime number : 61\n",
            "Prime number : 67\n",
            "Prime number : 71\n",
            "Prime number : 73\n",
            "Prime number : 79\n",
            "Prime number : 83\n",
            "Prime number : 89\n",
            "Prime number : 97\n"
          ]
        }
      ]
    },
    {
      "cell_type": "code",
      "source": [
        "## The above could also be done by 1 line of code\n",
        "prime_range = [x for x in range(2,100) if all(x%j for j in range(2,x))]\n",
        "print(prime_range)"
      ],
      "metadata": {
        "colab": {
          "base_uri": "https://localhost:8080/"
        },
        "id": "49-vrYmki-5d",
        "outputId": "cdd9f087-80c7-4ba1-b7f3-8e4de82ff834"
      },
      "execution_count": 28,
      "outputs": [
        {
          "output_type": "stream",
          "name": "stdout",
          "text": [
            "[2, 3, 5, 7, 11, 13, 17, 19, 23, 29, 31, 37, 41, 43, 47, 53, 59, 61, 67, 71, 73, 79, 83, 89, 97]\n"
          ]
        }
      ]
    },
    {
      "cell_type": "markdown",
      "source": [
        "## Nested List Comprehension"
      ],
      "metadata": {
        "id": "suGuA9RWkBJh"
      }
    },
    {
      "cell_type": "code",
      "source": [
        "lst_1 = [1,2,3,4,5,6,7,8,9,10]\n",
        "lst_2 = ['1 lakh','2 lakh','3 lakh','4 lakh','5 lakh','6 lakh','7 lakh','8 lakh','9 lakh','10 lakh']\n",
        "money = [[i,j] for i in lst_1 for j in lst_2]\n",
        "print(money)"
      ],
      "metadata": {
        "colab": {
          "base_uri": "https://localhost:8080/"
        },
        "id": "6BsQex70kDFz",
        "outputId": "a1a00d1f-b71f-443d-b57a-8dfa833ae91c"
      },
      "execution_count": 30,
      "outputs": [
        {
          "output_type": "stream",
          "name": "stdout",
          "text": [
            "[[1, '1 lakh'], [1, '2 lakh'], [1, '3 lakh'], [1, '4 lakh'], [1, '5 lakh'], [1, '6 lakh'], [1, '7 lakh'], [1, '8 lakh'], [1, '9 lakh'], [1, '10 lakh'], [2, '1 lakh'], [2, '2 lakh'], [2, '3 lakh'], [2, '4 lakh'], [2, '5 lakh'], [2, '6 lakh'], [2, '7 lakh'], [2, '8 lakh'], [2, '9 lakh'], [2, '10 lakh'], [3, '1 lakh'], [3, '2 lakh'], [3, '3 lakh'], [3, '4 lakh'], [3, '5 lakh'], [3, '6 lakh'], [3, '7 lakh'], [3, '8 lakh'], [3, '9 lakh'], [3, '10 lakh'], [4, '1 lakh'], [4, '2 lakh'], [4, '3 lakh'], [4, '4 lakh'], [4, '5 lakh'], [4, '6 lakh'], [4, '7 lakh'], [4, '8 lakh'], [4, '9 lakh'], [4, '10 lakh'], [5, '1 lakh'], [5, '2 lakh'], [5, '3 lakh'], [5, '4 lakh'], [5, '5 lakh'], [5, '6 lakh'], [5, '7 lakh'], [5, '8 lakh'], [5, '9 lakh'], [5, '10 lakh'], [6, '1 lakh'], [6, '2 lakh'], [6, '3 lakh'], [6, '4 lakh'], [6, '5 lakh'], [6, '6 lakh'], [6, '7 lakh'], [6, '8 lakh'], [6, '9 lakh'], [6, '10 lakh'], [7, '1 lakh'], [7, '2 lakh'], [7, '3 lakh'], [7, '4 lakh'], [7, '5 lakh'], [7, '6 lakh'], [7, '7 lakh'], [7, '8 lakh'], [7, '9 lakh'], [7, '10 lakh'], [8, '1 lakh'], [8, '2 lakh'], [8, '3 lakh'], [8, '4 lakh'], [8, '5 lakh'], [8, '6 lakh'], [8, '7 lakh'], [8, '8 lakh'], [8, '9 lakh'], [8, '10 lakh'], [9, '1 lakh'], [9, '2 lakh'], [9, '3 lakh'], [9, '4 lakh'], [9, '5 lakh'], [9, '6 lakh'], [9, '7 lakh'], [9, '8 lakh'], [9, '9 lakh'], [9, '10 lakh'], [10, '1 lakh'], [10, '2 lakh'], [10, '3 lakh'], [10, '4 lakh'], [10, '5 lakh'], [10, '6 lakh'], [10, '7 lakh'], [10, '8 lakh'], [10, '9 lakh'], [10, '10 lakh']]\n"
          ]
        }
      ]
    }
  ]
}