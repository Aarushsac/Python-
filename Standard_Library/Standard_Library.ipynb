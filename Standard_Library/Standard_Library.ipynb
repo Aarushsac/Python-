{
  "nbformat": 4,
  "nbformat_minor": 0,
  "metadata": {
    "colab": {
      "provenance": []
    },
    "kernelspec": {
      "name": "python3",
      "display_name": "Python 3"
    },
    "language_info": {
      "name": "python"
    }
  },
  "cells": [
    {
      "cell_type": "markdown",
      "source": [
        "#Standard Library"
      ],
      "metadata": {
        "id": "r4vfKc6S1WLu"
      }
    },
    {
      "cell_type": "markdown",
      "source": [
        "This library contains a lot of packages and modules which are downloaded along with python installation on your local system and these files contain a lot of pre written code which can be reused"
      ],
      "metadata": {
        "id": "6vQ-8G-k1gB5"
      }
    },
    {
      "cell_type": "markdown",
      "source": [
        "### Array package"
      ],
      "metadata": {
        "id": "Qr3V2viU2bg9"
      }
    },
    {
      "cell_type": "code",
      "source": [
        "import array\n",
        "arr = array.array('i',[1,2,3,4,5,6])"
      ],
      "metadata": {
        "id": "jKj-qnQ4CddF"
      },
      "execution_count": 8,
      "outputs": []
    },
    {
      "cell_type": "markdown",
      "source": [
        "### Math package"
      ],
      "metadata": {
        "id": "_k68lwzMCqpP"
      }
    },
    {
      "cell_type": "code",
      "source": [
        "import math\n",
        "print(math.sqrt(64))\n",
        "print(math.pi)"
      ],
      "metadata": {
        "colab": {
          "base_uri": "https://localhost:8080/"
        },
        "id": "cs_PP1sRCmH_",
        "outputId": "a2033e3c-d3c6-456c-fd15-e5eeb9c1833f"
      },
      "execution_count": 10,
      "outputs": [
        {
          "output_type": "stream",
          "name": "stdout",
          "text": [
            "8.0\n",
            "3.141592653589793\n"
          ]
        }
      ]
    },
    {
      "cell_type": "markdown",
      "source": [
        "### Random package"
      ],
      "metadata": {
        "id": "JXXler4QCyOn"
      }
    },
    {
      "cell_type": "code",
      "source": [
        "import random\n",
        "print(random.randint(100000,999999))"
      ],
      "metadata": {
        "colab": {
          "base_uri": "https://localhost:8080/"
        },
        "id": "vw-QuzrDC0Fu",
        "outputId": "8782832a-328a-4fe0-9b1f-635c453bfc6c"
      },
      "execution_count": 11,
      "outputs": [
        {
          "output_type": "stream",
          "name": "stdout",
          "text": [
            "507316\n"
          ]
        }
      ]
    },
    {
      "cell_type": "code",
      "source": [
        "print(random.choice(['Volvo','Tesla','Maserati','Bugatti','Mercedes','BMW']))"
      ],
      "metadata": {
        "colab": {
          "base_uri": "https://localhost:8080/"
        },
        "id": "PGT6DD4HC5av",
        "outputId": "7d14d06e-5858-4281-fc46-c1a7e259e835"
      },
      "execution_count": 12,
      "outputs": [
        {
          "output_type": "stream",
          "name": "stdout",
          "text": [
            "Mercedes\n"
          ]
        }
      ]
    },
    {
      "cell_type": "markdown",
      "source": [
        "### OS package"
      ],
      "metadata": {
        "id": "9x8TO1JaDM0x"
      }
    },
    {
      "cell_type": "code",
      "source": [
        "import os\n",
        "print(os.getcwd())\n",
        "os.mkdir('test')"
      ],
      "metadata": {
        "colab": {
          "base_uri": "https://localhost:8080/"
        },
        "id": "Mjt6W9v-DMY5",
        "outputId": "a9f949ca-6da8-4ee6-e325-e55b0964e6c5"
      },
      "execution_count": 14,
      "outputs": [
        {
          "output_type": "stream",
          "name": "stdout",
          "text": [
            "/content\n"
          ]
        }
      ]
    },
    {
      "cell_type": "markdown",
      "source": [
        "### Data Serialization"
      ],
      "metadata": {
        "id": "O1_s1T4hDjaY"
      }
    },
    {
      "cell_type": "markdown",
      "source": [
        "This is used for converting dictionaries to json file format's and vice versa.Extensively used when retrieving data through an API"
      ],
      "metadata": {
        "id": "VhgtQH52Dk--"
      }
    },
    {
      "cell_type": "code",
      "source": [
        "import json\n",
        "data = {'name':'Aarush','age':22}\n",
        "json_str = json.dumps(data)\n",
        "print(json_str,type(json_str))\n",
        "parsed_data = json.loads(json_str)\n",
        "print(parsed_data,type(parsed_data))\n"
      ],
      "metadata": {
        "colab": {
          "base_uri": "https://localhost:8080/"
        },
        "id": "wXB3E6YGDkot",
        "outputId": "d4aa41c3-f3f1-488f-9d0b-a055bd3f7503"
      },
      "execution_count": 15,
      "outputs": [
        {
          "output_type": "stream",
          "name": "stdout",
          "text": [
            "{\"name\": \"Aarush\", \"age\": 22} <class 'str'>\n",
            "{'name': 'Aarush', 'age': 22} <class 'dict'>\n"
          ]
        }
      ]
    },
    {
      "cell_type": "markdown",
      "source": [
        "### CSV package"
      ],
      "metadata": {
        "id": "ahsYZ4TmEKlq"
      }
    },
    {
      "cell_type": "code",
      "source": [
        "import csv\n",
        "## In write mode, all the previous data gets rewritten\n",
        "with open('example.csv',mode='w') as file:\n",
        "  writer = csv.writer(file)\n",
        "  writer.writerow(['name','age'])\n",
        "  writer.writerow(['Krish',22])\n",
        "\n",
        "with open('example.csv',mode='r') as file:\n",
        "  reader = csv.reader(file)\n",
        "  for row in reader:\n",
        "    print(row)"
      ],
      "metadata": {
        "colab": {
          "base_uri": "https://localhost:8080/"
        },
        "id": "gNDx7QxmENCE",
        "outputId": "c7eafa28-de6a-44ce-b122-e16443659dda"
      },
      "execution_count": 16,
      "outputs": [
        {
          "output_type": "stream",
          "name": "stdout",
          "text": [
            "['name', 'age']\n",
            "['Krish', '22']\n"
          ]
        }
      ]
    },
    {
      "cell_type": "markdown",
      "source": [
        "### Datetime package"
      ],
      "metadata": {
        "id": "wkkNGZZGE_nO"
      }
    },
    {
      "cell_type": "code",
      "source": [
        "from datetime import datetime , timedelta\n",
        "now = datetime.now()\n",
        "print(now)\n",
        "\n",
        "yesterday = now - timedelta(days=1)\n",
        "\n",
        "print(yesterday)"
      ],
      "metadata": {
        "colab": {
          "base_uri": "https://localhost:8080/"
        },
        "id": "QAAUA558FA6H",
        "outputId": "237467d9-0cdd-4db4-902b-77be9904b519"
      },
      "execution_count": 17,
      "outputs": [
        {
          "output_type": "stream",
          "name": "stdout",
          "text": [
            "2025-05-15 08:34:43.146619\n",
            "2025-05-14 08:34:43.146619\n"
          ]
        }
      ]
    },
    {
      "cell_type": "markdown",
      "source": [
        "### time package"
      ],
      "metadata": {
        "id": "X7PvrxsMFSeW"
      }
    },
    {
      "cell_type": "code",
      "source": [
        "import time\n",
        "print(time.time())"
      ],
      "metadata": {
        "colab": {
          "base_uri": "https://localhost:8080/"
        },
        "id": "LY3vxsKBFTXM",
        "outputId": "e0ee8303-c270-4f14-aff2-ef0bca9b3d5a"
      },
      "execution_count": 18,
      "outputs": [
        {
          "output_type": "stream",
          "name": "stdout",
          "text": [
            "1747298118.8270621\n"
          ]
        }
      ]
    },
    {
      "cell_type": "code",
      "source": [
        "time.sleep(2)\n",
        "print(time.time())"
      ],
      "metadata": {
        "colab": {
          "base_uri": "https://localhost:8080/"
        },
        "id": "IE5YYc_QFXMJ",
        "outputId": "562adf7f-1956-4c92-d9b8-bf8de9cef374"
      },
      "execution_count": 19,
      "outputs": [
        {
          "output_type": "stream",
          "name": "stdout",
          "text": [
            "1747298133.9919975\n"
          ]
        }
      ]
    },
    {
      "cell_type": "code",
      "source": [
        "## Regular expression\n",
        "import re\n",
        "\n",
        "pattern = r'\\d+'\n",
        "\n",
        "text = 'There are 123 apples 456'\n",
        "match = re.search(pattern,text)\n",
        "print(match.group())"
      ],
      "metadata": {
        "colab": {
          "base_uri": "https://localhost:8080/"
        },
        "id": "h3CaQc1KFgPU",
        "outputId": "2c96b686-3d36-44bd-8f24-886a0c9eed16"
      },
      "execution_count": 20,
      "outputs": [
        {
          "output_type": "stream",
          "name": "stdout",
          "text": [
            "123\n"
          ]
        }
      ]
    }
  ]
}