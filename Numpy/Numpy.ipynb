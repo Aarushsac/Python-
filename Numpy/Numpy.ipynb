{
  "nbformat": 4,
  "nbformat_minor": 0,
  "metadata": {
    "colab": {
      "provenance": []
    },
    "kernelspec": {
      "name": "python3",
      "display_name": "Python 3"
    },
    "language_info": {
      "name": "python"
    }
  },
  "cells": [
    {
      "cell_type": "markdown",
      "source": [
        "#Numpy"
      ],
      "metadata": {
        "id": "EJ-ltYAOSxyt"
      }
    },
    {
      "cell_type": "markdown",
      "source": [
        "Whenever we have to analyze our dataset in Python we use Numpy library."
      ],
      "metadata": {
        "id": "g1V7n_gzSzoL"
      }
    },
    {
      "cell_type": "markdown",
      "source": [
        "Numpy is a fundamental library for scientific computing.It provides supports for arrays and matrices, along with a collection of mathematical operations to operate on these data structures.In this lesson, we will focus on covering the basics of Numpy and arrays present in Numpy which are built in C and somehow integrated in Numpy which helps us use those data structures in Python and we will learn about vectorized operations"
      ],
      "metadata": {
        "id": "OKEIDP9gTANO"
      }
    },
    {
      "cell_type": "code",
      "source": [
        "import numpy as np\n",
        "\n",
        "## Creating arrays\n",
        "## Create a 1-Dimension Array\n",
        "\n",
        "## arr1 = np.array(iterable)\n",
        "arr1 = np.array([1,2,3,4,5,6])\n",
        "print(arr1,type(arr1))"
      ],
      "metadata": {
        "colab": {
          "base_uri": "https://localhost:8080/"
        },
        "id": "G6rxSB0JSzIJ",
        "outputId": "e88600db-9ce2-44ac-9516-c4b37c8a1dfc"
      },
      "execution_count": null,
      "outputs": [
        {
          "output_type": "stream",
          "name": "stdout",
          "text": [
            "[1 2 3 4 5 6] <class 'numpy.ndarray'>\n"
          ]
        }
      ]
    },
    {
      "cell_type": "markdown",
      "source": [
        "### Shape of the array"
      ],
      "metadata": {
        "id": "ntYUuENpUg7O"
      }
    },
    {
      "cell_type": "code",
      "source": [
        "print(arr1.shape)"
      ],
      "metadata": {
        "colab": {
          "base_uri": "https://localhost:8080/"
        },
        "id": "Eiqg7E2iUilg",
        "outputId": "ca396c68-58a7-4e43-f68e-b3db3e794b8b"
      },
      "execution_count": null,
      "outputs": [
        {
          "output_type": "stream",
          "name": "stdout",
          "text": [
            "(6,)\n"
          ]
        }
      ]
    },
    {
      "cell_type": "markdown",
      "source": [
        "### Reshape array"
      ],
      "metadata": {
        "id": "58GyH78bU6OI"
      }
    },
    {
      "cell_type": "markdown",
      "source": [
        "This function converts a 1-D array to 2-D array and reshapes the array"
      ],
      "metadata": {
        "id": "CQIM_PpuVFUV"
      }
    },
    {
      "cell_type": "code",
      "source": [
        "arr1.reshape(1,6)"
      ],
      "metadata": {
        "colab": {
          "base_uri": "https://localhost:8080/"
        },
        "id": "QfxAgtqLU5_J",
        "outputId": "b530ba88-0bc9-4ab5-8946-5eb02981e1f3"
      },
      "execution_count": null,
      "outputs": [
        {
          "output_type": "execute_result",
          "data": {
            "text/plain": [
              "array([[1, 2, 3, 4, 5, 6]])"
            ]
          },
          "metadata": {},
          "execution_count": 24
        }
      ]
    },
    {
      "cell_type": "code",
      "source": [
        "arr1.reshape(6,1)"
      ],
      "metadata": {
        "colab": {
          "base_uri": "https://localhost:8080/"
        },
        "id": "izoD1P6vU98d",
        "outputId": "e92aea91-ba84-4fba-bc23-a291a3e9c341"
      },
      "execution_count": null,
      "outputs": [
        {
          "output_type": "execute_result",
          "data": {
            "text/plain": [
              "array([[1],\n",
              "       [2],\n",
              "       [3],\n",
              "       [4],\n",
              "       [5],\n",
              "       [6]])"
            ]
          },
          "metadata": {},
          "execution_count": 25
        }
      ]
    },
    {
      "cell_type": "markdown",
      "source": [
        "### Flattening an array into 1-D"
      ],
      "metadata": {
        "id": "ywOAAB5rWLsh"
      }
    },
    {
      "cell_type": "code",
      "source": [
        "List_2D = [[1,2,3],[4,5,6]]\n",
        "print(List_2D,type(List_2D))\n",
        "arr = np.array(List_2D)\n",
        "print(arr,type(arr))\n",
        "print(arr.reshape(-1))"
      ],
      "metadata": {
        "colab": {
          "base_uri": "https://localhost:8080/"
        },
        "id": "2tK6LfueWN9a",
        "outputId": "3c913a94-e866-4f4c-8ab7-c54fbb154f25"
      },
      "execution_count": null,
      "outputs": [
        {
          "output_type": "stream",
          "name": "stdout",
          "text": [
            "[[1, 2, 3], [4, 5, 6]] <class 'list'>\n",
            "[[1 2 3]\n",
            " [4 5 6]] <class 'numpy.ndarray'>\n",
            "[1 2 3 4 5 6]\n"
          ]
        }
      ]
    },
    {
      "cell_type": "markdown",
      "source": [
        "### Check dimensions"
      ],
      "metadata": {
        "id": "1LbadQnhW2t9"
      }
    },
    {
      "cell_type": "code",
      "source": [
        "arr.ndim"
      ],
      "metadata": {
        "colab": {
          "base_uri": "https://localhost:8080/"
        },
        "id": "XqxnfouQW4En",
        "outputId": "6b870ccb-cc7e-41e1-ce05-dc6c7a87a4fa"
      },
      "execution_count": null,
      "outputs": [
        {
          "output_type": "execute_result",
          "data": {
            "text/plain": [
              "2"
            ]
          },
          "metadata": {},
          "execution_count": 27
        }
      ]
    },
    {
      "cell_type": "markdown",
      "source": [
        "### Convert into 1-D"
      ],
      "metadata": {
        "id": "nv9U_dMqW617"
      }
    },
    {
      "cell_type": "code",
      "source": [
        "arr = arr.reshape(-1)\n",
        "print(arr,type(arr),arr.ndim)"
      ],
      "metadata": {
        "colab": {
          "base_uri": "https://localhost:8080/"
        },
        "id": "a1Fm8wtFW8PY",
        "outputId": "d286c4c7-b97b-4a18-d86c-d7478471e6b3"
      },
      "execution_count": null,
      "outputs": [
        {
          "output_type": "stream",
          "name": "stdout",
          "text": [
            "[1 2 3 4 5 6] <class 'numpy.ndarray'> 1\n"
          ]
        }
      ]
    },
    {
      "cell_type": "markdown",
      "source": [
        "### Arrange function"
      ],
      "metadata": {
        "id": "CB7HP_8XY4Uh"
      }
    },
    {
      "cell_type": "code",
      "source": [
        "np.arange(0,10,2)"
      ],
      "metadata": {
        "colab": {
          "base_uri": "https://localhost:8080/"
        },
        "id": "siE01Y7gY5bM",
        "outputId": "3c062c70-d1c2-4d96-c82f-75f9cc557e64"
      },
      "execution_count": 37,
      "outputs": [
        {
          "output_type": "execute_result",
          "data": {
            "text/plain": [
              "array([0, 2, 4, 6, 8])"
            ]
          },
          "metadata": {},
          "execution_count": 37
        }
      ]
    },
    {
      "cell_type": "code",
      "source": [
        "np.arange(0,10,2).reshape(5,1)"
      ],
      "metadata": {
        "colab": {
          "base_uri": "https://localhost:8080/"
        },
        "id": "ohDla40bZBfP",
        "outputId": "5316bd5c-2dce-47f1-a13d-ca961d254308"
      },
      "execution_count": 38,
      "outputs": [
        {
          "output_type": "execute_result",
          "data": {
            "text/plain": [
              "array([[0],\n",
              "       [2],\n",
              "       [4],\n",
              "       [6],\n",
              "       [8]])"
            ]
          },
          "metadata": {},
          "execution_count": 38
        }
      ]
    },
    {
      "cell_type": "code",
      "source": [
        "np.ones((3,4))"
      ],
      "metadata": {
        "colab": {
          "base_uri": "https://localhost:8080/"
        },
        "id": "3nwOYk7IZHHM",
        "outputId": "30c788d0-84cb-40da-bdd0-ac6a89275894"
      },
      "execution_count": 39,
      "outputs": [
        {
          "output_type": "execute_result",
          "data": {
            "text/plain": [
              "array([[1., 1., 1., 1.],\n",
              "       [1., 1., 1., 1.],\n",
              "       [1., 1., 1., 1.]])"
            ]
          },
          "metadata": {},
          "execution_count": 39
        }
      ]
    },
    {
      "cell_type": "code",
      "source": [
        "## identity matrix\n",
        "np.identity(3)"
      ],
      "metadata": {
        "colab": {
          "base_uri": "https://localhost:8080/"
        },
        "id": "-ZhxruTHZWbe",
        "outputId": "1535df5d-5b29-4f02-a552-e0ca2ca0562c"
      },
      "execution_count": 40,
      "outputs": [
        {
          "output_type": "execute_result",
          "data": {
            "text/plain": [
              "array([[1., 0., 0.],\n",
              "       [0., 1., 0.],\n",
              "       [0., 0., 1.]])"
            ]
          },
          "metadata": {},
          "execution_count": 40
        }
      ]
    },
    {
      "cell_type": "code",
      "source": [
        "## array\n",
        "arr = np.array([[1,2,3],[4,5,6]])\n",
        "\n",
        "print(\"Array:\\n\",arr)\n",
        "print(\"Shape:\",arr.shape) #Output : (2,3)\n",
        "print(\"Number of dimensions:\",arr.ndim) #Output : 2\n",
        "print(\"Size (number of elements):\",arr.size)  #Output : 6\n",
        "print(\"Data type:\",arr.dtype) #Output : int64 (based on platform)\n",
        "print(\"Item size (in bytes):\",arr.itemsize) #Output 8 (based on platform)"
      ],
      "metadata": {
        "colab": {
          "base_uri": "https://localhost:8080/"
        },
        "id": "c6LncHUvZdA7",
        "outputId": "3ab0f20a-53e2-4984-c348-e42f914b21ce"
      },
      "execution_count": 42,
      "outputs": [
        {
          "output_type": "stream",
          "name": "stdout",
          "text": [
            "Array:\n",
            " [[1 2 3]\n",
            " [4 5 6]]\n",
            "Shape: (2, 3)\n",
            "Number of dimensions: 2\n",
            "Size (number of elements): 6\n",
            "Data type: int64\n",
            "Item size (in bytes): 8\n"
          ]
        }
      ]
    },
    {
      "cell_type": "markdown",
      "source": [
        "### Vectorized operations"
      ],
      "metadata": {
        "id": "B4OeAmurafZR"
      }
    },
    {
      "cell_type": "code",
      "source": [
        "## Addition operation\n",
        "arr1 = np.array([1,2,3,4,5,6])\n",
        "arr2 = np.array([10,20,30,40,50,60])\n",
        "\n",
        "##Element wise addition happens\n",
        "print(\"Addition operation:\",arr1+arr2)"
      ],
      "metadata": {
        "colab": {
          "base_uri": "https://localhost:8080/"
        },
        "id": "K0P22xIVaglH",
        "outputId": "c7562de3-4284-434f-b277-fcc2d1ead3f2"
      },
      "execution_count": 44,
      "outputs": [
        {
          "output_type": "stream",
          "name": "stdout",
          "text": [
            "Addition operation: [11 22 33 44 55 66]\n"
          ]
        }
      ]
    },
    {
      "cell_type": "code",
      "source": [
        "## Element wise subtraction\n",
        "print(\"Subtraction operation\",arr1-arr2)"
      ],
      "metadata": {
        "colab": {
          "base_uri": "https://localhost:8080/"
        },
        "id": "gu5qgeDVa-TR",
        "outputId": "d8da2274-b7f1-4165-af8e-b846e8b16012"
      },
      "execution_count": 45,
      "outputs": [
        {
          "output_type": "stream",
          "name": "stdout",
          "text": [
            "Subtraction operation [ -9 -18 -27 -36 -45 -54]\n"
          ]
        }
      ]
    },
    {
      "cell_type": "code",
      "source": [
        "## Element wise multiplication\n",
        "print(\"Multiplication operation\",arr1*arr2)"
      ],
      "metadata": {
        "colab": {
          "base_uri": "https://localhost:8080/"
        },
        "id": "QSo9Wd1ebFKI",
        "outputId": "cc168f96-2538-4c87-d0f5-d2f9e3626d1e"
      },
      "execution_count": 46,
      "outputs": [
        {
          "output_type": "stream",
          "name": "stdout",
          "text": [
            "Multiplication operation [ 10  40  90 160 250 360]\n"
          ]
        }
      ]
    },
    {
      "cell_type": "code",
      "source": [
        "## Element wise division\n",
        "print(\"Division operation\",arr1/arr2)"
      ],
      "metadata": {
        "colab": {
          "base_uri": "https://localhost:8080/"
        },
        "id": "ikRggEVVbMe_",
        "outputId": "6d3b5eff-5f0f-4039-f690-7a86d6060ce0"
      },
      "execution_count": 47,
      "outputs": [
        {
          "output_type": "stream",
          "name": "stdout",
          "text": [
            "Division operation [0.1 0.1 0.1 0.1 0.1 0.1]\n"
          ]
        }
      ]
    },
    {
      "cell_type": "code",
      "source": [
        "## Element wise int division\n",
        "print(\"Int Division Operation\",arr1//arr2)"
      ],
      "metadata": {
        "colab": {
          "base_uri": "https://localhost:8080/"
        },
        "id": "P8JqL9OLbThB",
        "outputId": "197fa506-368f-4dc1-e2cf-d887c1d8ea04"
      },
      "execution_count": 48,
      "outputs": [
        {
          "output_type": "stream",
          "name": "stdout",
          "text": [
            "Int Division Operation [0 0 0 0 0 0]\n"
          ]
        }
      ]
    },
    {
      "cell_type": "code",
      "source": [
        "## Element wise modulus operation\n",
        "print(\"Modulus operation\",arr2 % arr1)"
      ],
      "metadata": {
        "colab": {
          "base_uri": "https://localhost:8080/"
        },
        "id": "BnFdxog6bY3n",
        "outputId": "2d86337d-9cfe-47e7-a8d4-e029320f8b02"
      },
      "execution_count": 50,
      "outputs": [
        {
          "output_type": "stream",
          "name": "stdout",
          "text": [
            "Modulus operation [0 0 0 0 0 0]\n"
          ]
        }
      ]
    },
    {
      "cell_type": "markdown",
      "source": [
        "### Universal functions"
      ],
      "metadata": {
        "id": "2TC0GBcQboGD"
      }
    },
    {
      "cell_type": "code",
      "source": [
        "## Square Root\n",
        "arr = np.array([1,2,3,4,5])\n",
        "print(np.sqrt(arr))"
      ],
      "metadata": {
        "colab": {
          "base_uri": "https://localhost:8080/"
        },
        "id": "H5cmxXUhbpEi",
        "outputId": "d0cf5a7b-7b76-4f35-aaba-81f5c0ab941c"
      },
      "execution_count": 51,
      "outputs": [
        {
          "output_type": "stream",
          "name": "stdout",
          "text": [
            "[1.         1.41421356 1.73205081 2.         2.23606798]\n"
          ]
        }
      ]
    },
    {
      "cell_type": "code",
      "source": [
        "##  Exponential\n",
        "print(np.exp(arr))"
      ],
      "metadata": {
        "colab": {
          "base_uri": "https://localhost:8080/"
        },
        "id": "Fdofl_8Yb0g-",
        "outputId": "3218f1c9-ce3f-4ae4-fa8e-327c584563f4"
      },
      "execution_count": 52,
      "outputs": [
        {
          "output_type": "stream",
          "name": "stdout",
          "text": [
            "[  2.71828183   7.3890561   20.08553692  54.59815003 148.4131591 ]\n"
          ]
        }
      ]
    },
    {
      "cell_type": "code",
      "source": [
        "## sine\n",
        "print(np.sin(arr))"
      ],
      "metadata": {
        "colab": {
          "base_uri": "https://localhost:8080/"
        },
        "id": "PWdPMrRhcJxY",
        "outputId": "daf5b592-52dc-4272-c20e-03f00a04b5ee"
      },
      "execution_count": 54,
      "outputs": [
        {
          "output_type": "stream",
          "name": "stdout",
          "text": [
            "[ 0.84147098  0.90929743  0.14112001 -0.7568025  -0.95892427]\n"
          ]
        }
      ]
    },
    {
      "cell_type": "code",
      "source": [
        "## natural log\n",
        "print(np.log(arr))"
      ],
      "metadata": {
        "colab": {
          "base_uri": "https://localhost:8080/"
        },
        "id": "o4HyxeBbcPwl",
        "outputId": "62017765-ef38-400b-e74f-a6c097973c2a"
      },
      "execution_count": 55,
      "outputs": [
        {
          "output_type": "stream",
          "name": "stdout",
          "text": [
            "[0.         0.69314718 1.09861229 1.38629436 1.60943791]\n"
          ]
        }
      ]
    },
    {
      "cell_type": "markdown",
      "source": [
        "### Array Slicing and Indexing"
      ],
      "metadata": {
        "id": "1rYbyFXocb77"
      }
    },
    {
      "cell_type": "code",
      "source": [
        "arr = [[1,2,3],[4,5,6],[7,8,9]]\n",
        "print(arr,type(arr))"
      ],
      "metadata": {
        "colab": {
          "base_uri": "https://localhost:8080/"
        },
        "id": "9VYOiuq2cdnV",
        "outputId": "b8e64b9a-d0c0-48fc-af17-c14137158e48"
      },
      "execution_count": 58,
      "outputs": [
        {
          "output_type": "stream",
          "name": "stdout",
          "text": [
            "[[1, 2, 3], [4, 5, 6], [7, 8, 9]] <class 'list'>\n"
          ]
        }
      ]
    },
    {
      "cell_type": "code",
      "source": [
        "arr = np.array(arr)"
      ],
      "metadata": {
        "id": "8sV_fJkic2Ut"
      },
      "execution_count": 59,
      "outputs": []
    },
    {
      "cell_type": "markdown",
      "source": [
        "### The above point is where we set foundation of machine learning models we provide them with arrays not with 2-D lists beacuse each data point has to contain same number of features or columns"
      ],
      "metadata": {
        "id": "nfdmQzkSdMtQ"
      }
    },
    {
      "cell_type": "code",
      "source": [
        "## Accessing elements\n",
        "print(arr[0])\n",
        "print(arr[0][1])\n",
        "print(arr[2][1])\n",
        "print(arr[1][2])\n",
        "print(arr[0][2])\n",
        "print(arr[2][2])"
      ],
      "metadata": {
        "colab": {
          "base_uri": "https://localhost:8080/"
        },
        "id": "1tCLwRAYdXer",
        "outputId": "f9c3b626-45af-41f3-99d1-93f9f00e77b5"
      },
      "execution_count": 62,
      "outputs": [
        {
          "output_type": "stream",
          "name": "stdout",
          "text": [
            "[1 2 3]\n",
            "2\n",
            "8\n",
            "6\n",
            "3\n",
            "9\n"
          ]
        }
      ]
    },
    {
      "cell_type": "code",
      "source": [
        "## Slicing\n",
        "print(arr[1:,2:])"
      ],
      "metadata": {
        "colab": {
          "base_uri": "https://localhost:8080/"
        },
        "id": "JM4pSj7Udx9b",
        "outputId": "50507936-0235-4688-e30d-b3700af6f70f"
      },
      "execution_count": 63,
      "outputs": [
        {
          "output_type": "stream",
          "name": "stdout",
          "text": [
            "[[6]\n",
            " [9]]\n"
          ]
        }
      ]
    },
    {
      "cell_type": "code",
      "source": [
        "print(arr[1:][:])"
      ],
      "metadata": {
        "colab": {
          "base_uri": "https://localhost:8080/"
        },
        "id": "xHliZ-X0d-br",
        "outputId": "9efc0f19-8ab7-43d9-e52f-a2baedb492cf"
      },
      "execution_count": 65,
      "outputs": [
        {
          "output_type": "stream",
          "name": "stdout",
          "text": [
            "[[4 5 6]\n",
            " [7 8 9]]\n"
          ]
        }
      ]
    },
    {
      "cell_type": "code",
      "source": [
        "arr[0,0] = 100\n",
        "print(arr,type(arr))"
      ],
      "metadata": {
        "colab": {
          "base_uri": "https://localhost:8080/"
        },
        "id": "1g7V5DBIevy2",
        "outputId": "22f3b521-4759-4564-8b1b-8d7b4226959a"
      },
      "execution_count": 66,
      "outputs": [
        {
          "output_type": "stream",
          "name": "stdout",
          "text": [
            "[[100   2   3]\n",
            " [  4   5   6]\n",
            " [  7   8   9]] <class 'numpy.ndarray'>\n"
          ]
        }
      ]
    },
    {
      "cell_type": "code",
      "source": [
        "arr[1:]=100\n",
        "print(arr)"
      ],
      "metadata": {
        "colab": {
          "base_uri": "https://localhost:8080/"
        },
        "id": "TtdZ_ISke8DE",
        "outputId": "86dd83e9-ca62-44d3-9967-5134c973bde1"
      },
      "execution_count": 67,
      "outputs": [
        {
          "output_type": "stream",
          "name": "stdout",
          "text": [
            "[[100   2   3]\n",
            " [100 100 100]\n",
            " [100 100 100]]\n"
          ]
        }
      ]
    },
    {
      "cell_type": "markdown",
      "source": [
        "### Statistical Concepts -- Normalization"
      ],
      "metadata": {
        "id": "Lwr_oED9e_y_"
      }
    },
    {
      "cell_type": "markdown",
      "source": [
        "Normalized data is when it has a mean of 0 and a standard deviation of 1"
      ],
      "metadata": {
        "id": "-fVY_JjhfHUA"
      }
    },
    {
      "cell_type": "code",
      "source": [
        "## Create an array\n",
        "data = np.array([1,2,3,4,5,6])\n",
        "\n",
        "## Find the mean and standard deviation of the data\n",
        "mean = np.mean(data)\n",
        "std_deviation = np.std(data)\n",
        "\n",
        "## normalize the data\n",
        "normalized_data = (data - mean) / std_deviation\n",
        "print(normalized_data,type(normalized_data))"
      ],
      "metadata": {
        "colab": {
          "base_uri": "https://localhost:8080/"
        },
        "id": "FKCimTTufCbz",
        "outputId": "dd41b02f-c21c-4699-b014-c72c06656614"
      },
      "execution_count": 68,
      "outputs": [
        {
          "output_type": "stream",
          "name": "stdout",
          "text": [
            "[-1.46385011 -0.87831007 -0.29277002  0.29277002  0.87831007  1.46385011] <class 'numpy.ndarray'>\n"
          ]
        }
      ]
    },
    {
      "cell_type": "markdown",
      "source": [
        "### Important Statistical Information"
      ],
      "metadata": {
        "id": "ELCAqWWhgJfo"
      }
    },
    {
      "cell_type": "code",
      "source": [
        "## Median of our data\n",
        "median = np.median(data)\n",
        "print(f\"Median of our data is {median}\")\n",
        "\n",
        "## Variance\n",
        "variance = np.var(data)\n",
        "print(f\"Variance of our data is {variance}\")"
      ],
      "metadata": {
        "colab": {
          "base_uri": "https://localhost:8080/"
        },
        "id": "xNd9SVMWgM5R",
        "outputId": "79c77302-c378-4c18-c279-252dd6e5dd4e"
      },
      "execution_count": 69,
      "outputs": [
        {
          "output_type": "stream",
          "name": "stdout",
          "text": [
            "Median of our data is 3.5\n",
            "Variance of our data is 2.9166666666666665\n"
          ]
        }
      ]
    },
    {
      "cell_type": "code",
      "source": [
        "## Logical Operation\n",
        "data > 5"
      ],
      "metadata": {
        "colab": {
          "base_uri": "https://localhost:8080/"
        },
        "id": "hjzkloTeglgQ",
        "outputId": "6113526f-133e-4d5d-fc03-78a824be9f8a"
      },
      "execution_count": 70,
      "outputs": [
        {
          "output_type": "execute_result",
          "data": {
            "text/plain": [
              "array([False, False, False, False, False,  True])"
            ]
          },
          "metadata": {},
          "execution_count": 70
        }
      ]
    },
    {
      "cell_type": "code",
      "source": [
        "data[data>5]"
      ],
      "metadata": {
        "colab": {
          "base_uri": "https://localhost:8080/"
        },
        "id": "TgzUFgUog55j",
        "outputId": "05a7cb5e-7025-4279-aca7-911fe78b484c"
      },
      "execution_count": 71,
      "outputs": [
        {
          "output_type": "execute_result",
          "data": {
            "text/plain": [
              "array([6])"
            ]
          },
          "metadata": {},
          "execution_count": 71
        }
      ]
    }
  ]
}