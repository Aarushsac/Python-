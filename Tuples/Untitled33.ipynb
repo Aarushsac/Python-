{
  "nbformat": 4,
  "nbformat_minor": 0,
  "metadata": {
    "colab": {
      "provenance": []
    },
    "kernelspec": {
      "name": "python3",
      "display_name": "Python 3"
    },
    "language_info": {
      "name": "python"
    }
  },
  "cells": [
    {
      "cell_type": "markdown",
      "source": [
        "# Tuples"
      ],
      "metadata": {
        "id": "lGb_uaWlsSNF"
      }
    },
    {
      "cell_type": "markdown",
      "source": [
        "Tuples are basically data structure used to store data in an ordered manner and are immutable."
      ],
      "metadata": {
        "id": "RUO8tzbcsTvz"
      }
    },
    {
      "cell_type": "code",
      "execution_count": 1,
      "metadata": {
        "colab": {
          "base_uri": "https://localhost:8080/"
        },
        "id": "o1TgTeHbsRpu",
        "outputId": "df006411-ac1f-4192-fb48-76ae410af946"
      },
      "outputs": [
        {
          "output_type": "stream",
          "name": "stdout",
          "text": [
            "() <class 'tuple'>\n",
            "() <class 'tuple'>\n"
          ]
        }
      ],
      "source": [
        "##Creating an empty tuple\n",
        "empty_tuple = ()\n",
        "print(empty_tuple,type(empty_tuple))\n",
        "etup = tuple()\n",
        "print(etup,type(etup))"
      ]
    },
    {
      "cell_type": "markdown",
      "source": [
        "### Mixed tuples"
      ],
      "metadata": {
        "id": "XGf313ensp4r"
      }
    },
    {
      "cell_type": "code",
      "source": [
        "mixed_tuple = (1,\"Aarush\",6.1,True)\n",
        "print(mixed_tuple,type(mixed_tuple))"
      ],
      "metadata": {
        "colab": {
          "base_uri": "https://localhost:8080/"
        },
        "id": "DGu4nNrjssiy",
        "outputId": "1a3c663a-ef16-486d-dbf7-c284ac2ec43e"
      },
      "execution_count": 2,
      "outputs": [
        {
          "output_type": "stream",
          "name": "stdout",
          "text": [
            "(1, 'Aarush', 6.1, True) <class 'tuple'>\n"
          ]
        }
      ]
    },
    {
      "cell_type": "markdown",
      "source": [
        "### Accessing elements"
      ],
      "metadata": {
        "id": "UzhZKQ7-s0yQ"
      }
    },
    {
      "cell_type": "markdown",
      "source": [
        "Elements are indexed from 0 to len(tuple)-1.Each element has a name that is tuple_name[index]"
      ],
      "metadata": {
        "id": "YxcGf_-us4Mb"
      }
    },
    {
      "cell_type": "code",
      "source": [
        "print(mixed_tuple[0])\n",
        "print(mixed_tuple[-1])\n",
        "print(mixed_tuple[2])"
      ],
      "metadata": {
        "colab": {
          "base_uri": "https://localhost:8080/"
        },
        "id": "B6IO8fpAs3SQ",
        "outputId": "41c6f485-028c-4685-d303-f4958d65811c"
      },
      "execution_count": 3,
      "outputs": [
        {
          "output_type": "stream",
          "name": "stdout",
          "text": [
            "1\n",
            "True\n",
            "6.1\n"
          ]
        }
      ]
    },
    {
      "cell_type": "markdown",
      "source": [
        "### Slicing elements"
      ],
      "metadata": {
        "id": "6Es8GyS1tJSl"
      }
    },
    {
      "cell_type": "code",
      "source": [
        "mixed_tuple[1:3:1]"
      ],
      "metadata": {
        "colab": {
          "base_uri": "https://localhost:8080/"
        },
        "id": "w9x1692ttKi8",
        "outputId": "1792a841-af86-4f99-ec11-b8d94b026ee8"
      },
      "execution_count": 4,
      "outputs": [
        {
          "output_type": "execute_result",
          "data": {
            "text/plain": [
              "('Aarush', 6.1)"
            ]
          },
          "metadata": {},
          "execution_count": 4
        }
      ]
    },
    {
      "cell_type": "markdown",
      "source": [
        "### Reversing a tuple"
      ],
      "metadata": {
        "id": "U4YoNzZZtQzS"
      }
    },
    {
      "cell_type": "code",
      "source": [
        "mixed_tuple[::-1]"
      ],
      "metadata": {
        "colab": {
          "base_uri": "https://localhost:8080/"
        },
        "id": "bR3npZKptQZb",
        "outputId": "cec3b969-6dd1-4bf6-df44-d1f6a2468b2c"
      },
      "execution_count": 5,
      "outputs": [
        {
          "output_type": "execute_result",
          "data": {
            "text/plain": [
              "(True, 6.1, 'Aarush', 1)"
            ]
          },
          "metadata": {},
          "execution_count": 5
        }
      ]
    },
    {
      "cell_type": "markdown",
      "source": [
        "### Concatenating tuples"
      ],
      "metadata": {
        "id": "qFbDEcl9uVu5"
      }
    },
    {
      "cell_type": "code",
      "source": [
        "## We can add tuples together of different datatypes and we can append same tuple to itself n number of times\n",
        "mixed_tuple * 3"
      ],
      "metadata": {
        "colab": {
          "base_uri": "https://localhost:8080/"
        },
        "id": "3ZcokDxEuYqt",
        "outputId": "2cc32a19-27a5-44e8-82a2-1a4d9103837f"
      },
      "execution_count": 6,
      "outputs": [
        {
          "output_type": "execute_result",
          "data": {
            "text/plain": [
              "(1, 'Aarush', 6.1, True, 1, 'Aarush', 6.1, True, 1, 'Aarush', 6.1, True)"
            ]
          },
          "metadata": {},
          "execution_count": 6
        }
      ]
    },
    {
      "cell_type": "code",
      "source": [
        "temp_tuple = (\"Savita\",False)\n",
        "concatenated_tuple = mixed_tuple + temp_tuple\n",
        "print(concatenated_tuple)"
      ],
      "metadata": {
        "colab": {
          "base_uri": "https://localhost:8080/"
        },
        "id": "VhmPnLiFuic7",
        "outputId": "4c2c84b7-2b37-4a82-d0ef-9b2edbe5e419"
      },
      "execution_count": 7,
      "outputs": [
        {
          "output_type": "stream",
          "name": "stdout",
          "text": [
            "(1, 'Aarush', 6.1, True, 'Savita', False)\n"
          ]
        }
      ]
    },
    {
      "cell_type": "markdown",
      "source": [
        "### Immutable Nature of Tuples"
      ],
      "metadata": {
        "id": "gwXHPUf7uuDl"
      }
    },
    {
      "cell_type": "code",
      "source": [
        "## Tuples differ from list only in 1 most important form and that is elements of a tuple cannot be changed once they are assigned\n",
        "tpl = (1,\"Aarush\",True,5.7)\n",
        "print(tpl,type(tpl))\n",
        "tpl[1] = \"Abhay\"\n",
        "print(tpl,type(tpl))"
      ],
      "metadata": {
        "colab": {
          "base_uri": "https://localhost:8080/",
          "height": 221
        },
        "id": "wsq_Du9iuv4T",
        "outputId": "3d429093-3354-4104-82f5-f52f2132c1cf"
      },
      "execution_count": 8,
      "outputs": [
        {
          "output_type": "stream",
          "name": "stdout",
          "text": [
            "(1, 'Aarush', True, 5.7) <class 'tuple'>\n"
          ]
        },
        {
          "output_type": "error",
          "ename": "TypeError",
          "evalue": "'tuple' object does not support item assignment",
          "traceback": [
            "\u001b[0;31m---------------------------------------------------------------------------\u001b[0m",
            "\u001b[0;31mTypeError\u001b[0m                                 Traceback (most recent call last)",
            "\u001b[0;32m<ipython-input-8-c5e24ad5c7e9>\u001b[0m in \u001b[0;36m<cell line: 0>\u001b[0;34m()\u001b[0m\n\u001b[1;32m      2\u001b[0m \u001b[0mtpl\u001b[0m \u001b[0;34m=\u001b[0m \u001b[0;34m(\u001b[0m\u001b[0;36m1\u001b[0m\u001b[0;34m,\u001b[0m\u001b[0;34m\"Aarush\"\u001b[0m\u001b[0;34m,\u001b[0m\u001b[0;32mTrue\u001b[0m\u001b[0;34m,\u001b[0m\u001b[0;36m5.7\u001b[0m\u001b[0;34m)\u001b[0m\u001b[0;34m\u001b[0m\u001b[0;34m\u001b[0m\u001b[0m\n\u001b[1;32m      3\u001b[0m \u001b[0mprint\u001b[0m\u001b[0;34m(\u001b[0m\u001b[0mtpl\u001b[0m\u001b[0;34m,\u001b[0m\u001b[0mtype\u001b[0m\u001b[0;34m(\u001b[0m\u001b[0mtpl\u001b[0m\u001b[0;34m)\u001b[0m\u001b[0;34m)\u001b[0m\u001b[0;34m\u001b[0m\u001b[0;34m\u001b[0m\u001b[0m\n\u001b[0;32m----> 4\u001b[0;31m \u001b[0mtpl\u001b[0m\u001b[0;34m[\u001b[0m\u001b[0;36m1\u001b[0m\u001b[0;34m]\u001b[0m \u001b[0;34m=\u001b[0m \u001b[0;34m\"Abhay\"\u001b[0m\u001b[0;34m\u001b[0m\u001b[0;34m\u001b[0m\u001b[0m\n\u001b[0m\u001b[1;32m      5\u001b[0m \u001b[0mprint\u001b[0m\u001b[0;34m(\u001b[0m\u001b[0mtpl\u001b[0m\u001b[0;34m,\u001b[0m\u001b[0mtype\u001b[0m\u001b[0;34m(\u001b[0m\u001b[0mtpl\u001b[0m\u001b[0;34m)\u001b[0m\u001b[0;34m)\u001b[0m\u001b[0;34m\u001b[0m\u001b[0;34m\u001b[0m\u001b[0m\n",
            "\u001b[0;31mTypeError\u001b[0m: 'tuple' object does not support item assignment"
          ]
        }
      ]
    },
    {
      "cell_type": "markdown",
      "source": [
        "### Way to resolve such conflict"
      ],
      "metadata": {
        "id": "9Lxpn0f7vQFG"
      }
    },
    {
      "cell_type": "code",
      "source": [
        "tpl = list(tpl)\n",
        "tpl[1] = \"Abhay\"\n",
        "print(tpl,type(tpl))\n",
        "tpl = tuple(tpl)\n",
        "print(tpl,type(tpl))"
      ],
      "metadata": {
        "colab": {
          "base_uri": "https://localhost:8080/"
        },
        "id": "jojONeHcvR2H",
        "outputId": "b66b51b5-94d8-4210-d943-87fda152c61f"
      },
      "execution_count": 9,
      "outputs": [
        {
          "output_type": "stream",
          "name": "stdout",
          "text": [
            "[1, 'Abhay', True, 5.7] <class 'list'>\n",
            "(1, 'Abhay', True, 5.7) <class 'tuple'>\n"
          ]
        }
      ]
    },
    {
      "cell_type": "markdown",
      "source": [
        "### Tuple Methods"
      ],
      "metadata": {
        "id": "LmLNWXvAv8jn"
      }
    },
    {
      "cell_type": "code",
      "source": [
        "print(len(tpl))"
      ],
      "metadata": {
        "colab": {
          "base_uri": "https://localhost:8080/"
        },
        "id": "AP0jhTmtv9sU",
        "outputId": "3fdc8676-d94e-4279-a58a-bdfcb5118b6d"
      },
      "execution_count": 10,
      "outputs": [
        {
          "output_type": "stream",
          "name": "stdout",
          "text": [
            "4\n"
          ]
        }
      ]
    },
    {
      "cell_type": "code",
      "source": [
        "## Count Method\n",
        "print(tpl.count(5.7))"
      ],
      "metadata": {
        "colab": {
          "base_uri": "https://localhost:8080/"
        },
        "id": "Yt0WF2wtv_s0",
        "outputId": "0102571f-5b97-4c71-98bb-9b17ecc59c12"
      },
      "execution_count": 11,
      "outputs": [
        {
          "output_type": "stream",
          "name": "stdout",
          "text": [
            "1\n"
          ]
        }
      ]
    },
    {
      "cell_type": "code",
      "source": [
        "## Index Method\n",
        "print(tpl.index('Abhay'))"
      ],
      "metadata": {
        "colab": {
          "base_uri": "https://localhost:8080/"
        },
        "id": "8mLhkVwUwEyB",
        "outputId": "e83fb180-6b54-4de6-f64a-eac1233a3615"
      },
      "execution_count": 13,
      "outputs": [
        {
          "output_type": "stream",
          "name": "stdout",
          "text": [
            "1\n"
          ]
        }
      ]
    },
    {
      "cell_type": "markdown",
      "source": [
        "### Why does tuples don't have more methods Simple reason immutable"
      ],
      "metadata": {
        "id": "kW5Biov7we65"
      }
    },
    {
      "cell_type": "markdown",
      "source": [
        "## Packing and Unpacking tuples"
      ],
      "metadata": {
        "id": "miMosV4iwtRh"
      }
    },
    {
      "cell_type": "code",
      "source": [
        "packed_tuple = 1,\"Aarush\",True\n",
        "print(packed_tuple)"
      ],
      "metadata": {
        "colab": {
          "base_uri": "https://localhost:8080/"
        },
        "id": "U9sH_8cJwrc0",
        "outputId": "c15e6717-1832-4d79-c172-2082f51f50d1"
      },
      "execution_count": 16,
      "outputs": [
        {
          "output_type": "stream",
          "name": "stdout",
          "text": [
            "(1, 'Aarush', True)\n"
          ]
        }
      ]
    },
    {
      "cell_type": "code",
      "source": [
        "a,b,c = packed_tuple\n",
        "print(a,b,c,sep=\"\\n\")"
      ],
      "metadata": {
        "colab": {
          "base_uri": "https://localhost:8080/"
        },
        "id": "3FdthLT0yRGg",
        "outputId": "5a2183bd-4ac0-4b02-dbf7-c37268d8d292"
      },
      "execution_count": 18,
      "outputs": [
        {
          "output_type": "stream",
          "name": "stdout",
          "text": [
            "1\n",
            "Aarush\n",
            "True\n"
          ]
        }
      ]
    },
    {
      "cell_type": "code",
      "source": [
        "hello = (1,2,3,4,\"Aarush\",34,23,12,65,23,4,2,1)\n",
        "first , *middle , last = hello\n",
        "print(first)\n",
        "print(middle)\n",
        "print(last)\n"
      ],
      "metadata": {
        "colab": {
          "base_uri": "https://localhost:8080/"
        },
        "id": "IarNgr2QyZVa",
        "outputId": "cfdf501e-7b1e-4215-8862-580b0f2dae82"
      },
      "execution_count": 19,
      "outputs": [
        {
          "output_type": "stream",
          "name": "stdout",
          "text": [
            "1\n",
            "[2, 3, 4, 'Aarush', 34, 23, 12, 65, 23, 4, 2]\n",
            "1\n"
          ]
        }
      ]
    },
    {
      "cell_type": "markdown",
      "source": [
        "### Nested Tuple"
      ],
      "metadata": {
        "id": "_kRH3ajYyswl"
      }
    },
    {
      "cell_type": "code",
      "source": [
        "tpl = ((1,2,3,4,5,6),[True,1,False,\"Savita\"],(0,-1))\n",
        "tpl[0][2]"
      ],
      "metadata": {
        "colab": {
          "base_uri": "https://localhost:8080/"
        },
        "id": "BUm2u45wyuxy",
        "outputId": "82590c11-4320-4a4a-db4f-2041a59927f6"
      },
      "execution_count": 20,
      "outputs": [
        {
          "output_type": "execute_result",
          "data": {
            "text/plain": [
              "3"
            ]
          },
          "metadata": {},
          "execution_count": 20
        }
      ]
    },
    {
      "cell_type": "code",
      "source": [
        "tpl[1][1:3]"
      ],
      "metadata": {
        "colab": {
          "base_uri": "https://localhost:8080/"
        },
        "id": "DEEFSKGGy4oh",
        "outputId": "c52f1ecf-795f-4daf-85f3-125039fbead4"
      },
      "execution_count": 21,
      "outputs": [
        {
          "output_type": "execute_result",
          "data": {
            "text/plain": [
              "[1, False]"
            ]
          },
          "metadata": {},
          "execution_count": 21
        }
      ]
    }
  ]
}