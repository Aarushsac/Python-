{
  "nbformat": 4,
  "nbformat_minor": 0,
  "metadata": {
    "colab": {
      "provenance": []
    },
    "kernelspec": {
      "name": "python3",
      "display_name": "Python 3"
    },
    "language_info": {
      "name": "python"
    }
  },
  "cells": [
    {
      "cell_type": "markdown",
      "source": [
        "#Dictionaries"
      ],
      "metadata": {
        "id": "ie-mwtEkhy9H"
      }
    },
    {
      "cell_type": "markdown",
      "source": [
        "They are a data structures which can store data in key value pairs.It is unordered,mutable data types."
      ],
      "metadata": {
        "id": "HZMzgnAbh1aM"
      }
    },
    {
      "cell_type": "markdown",
      "source": [
        "The keys in dictionaries are unique and immutable(e.g like strings,numbers and tuples)"
      ],
      "metadata": {
        "id": "dHTjgJLQiOic"
      }
    },
    {
      "cell_type": "code",
      "execution_count": 2,
      "metadata": {
        "colab": {
          "base_uri": "https://localhost:8080/"
        },
        "id": "HjsadcaRhyVN",
        "outputId": "6f68fe51-ef8f-4257-9ca3-5c6236f6db90"
      },
      "outputs": [
        {
          "output_type": "stream",
          "name": "stdout",
          "text": [
            "{} <class 'dict'>\n"
          ]
        }
      ],
      "source": [
        "dictionary = {}\n",
        "print(dictionary,type(dictionary))"
      ]
    },
    {
      "cell_type": "code",
      "source": [
        "dictionary_1 = dict()\n",
        "print(dictionary_1,type(dictionary_1))"
      ],
      "metadata": {
        "colab": {
          "base_uri": "https://localhost:8080/"
        },
        "id": "gTI9C3rMieJ7",
        "outputId": "521216d7-07bf-451f-c7dd-58a07f4b1473"
      },
      "execution_count": 3,
      "outputs": [
        {
          "output_type": "stream",
          "name": "stdout",
          "text": [
            "{} <class 'dict'>\n"
          ]
        }
      ]
    },
    {
      "cell_type": "code",
      "source": [
        "## Dictionary\n",
        "dictionary = {\"name\":\"Aarush\",\"age\":22,\"isMale\":True}\n",
        "print(dictionary,type(dictionary))"
      ],
      "metadata": {
        "colab": {
          "base_uri": "https://localhost:8080/"
        },
        "id": "Ra6qshWYilFo",
        "outputId": "a370c2fa-10ea-4b34-e532-710e8036b8df"
      },
      "execution_count": 4,
      "outputs": [
        {
          "output_type": "stream",
          "name": "stdout",
          "text": [
            "{'name': 'Aarush', 'age': 22, 'isMale': True} <class 'dict'>\n"
          ]
        }
      ]
    },
    {
      "cell_type": "code",
      "source": [
        "## Making a key which is coming more than twice\n",
        "dictionary[\"name\"]=\"Krish\"\n",
        "print(dictionary,type(dictionary))"
      ],
      "metadata": {
        "colab": {
          "base_uri": "https://localhost:8080/"
        },
        "id": "OFzDg_lhi-o1",
        "outputId": "17be0d7d-9126-49df-fc39-e22dc962d097"
      },
      "execution_count": 5,
      "outputs": [
        {
          "output_type": "stream",
          "name": "stdout",
          "text": [
            "{'name': 'Krish', 'age': 22, 'isMale': True} <class 'dict'>\n"
          ]
        }
      ]
    },
    {
      "cell_type": "code",
      "source": [
        "dictionary[\"age\"]"
      ],
      "metadata": {
        "colab": {
          "base_uri": "https://localhost:8080/"
        },
        "id": "XjiyO61QAR_X",
        "outputId": "f1c554ca-d9fe-4c0a-d7bd-b04a8b1d6205"
      },
      "execution_count": 7,
      "outputs": [
        {
          "output_type": "execute_result",
          "data": {
            "text/plain": [
              "22"
            ]
          },
          "metadata": {},
          "execution_count": 7
        }
      ]
    },
    {
      "cell_type": "code",
      "source": [
        "dictionary.get(\"isMale\")"
      ],
      "metadata": {
        "colab": {
          "base_uri": "https://localhost:8080/"
        },
        "id": "YkhKRdPkARUV",
        "outputId": "23f4a29e-d94d-48af-c0c0-a6e79a5718de"
      },
      "execution_count": 8,
      "outputs": [
        {
          "output_type": "execute_result",
          "data": {
            "text/plain": [
              "True"
            ]
          },
          "metadata": {},
          "execution_count": 8
        }
      ]
    },
    {
      "cell_type": "markdown",
      "source": [
        "### Getting all keys"
      ],
      "metadata": {
        "id": "h-tCrekhA5KR"
      }
    },
    {
      "cell_type": "code",
      "source": [
        "keys = dictionary.keys()\n",
        "print(keys)"
      ],
      "metadata": {
        "colab": {
          "base_uri": "https://localhost:8080/"
        },
        "id": "ZRFEN2ipA6c8",
        "outputId": "b9f486e8-b182-4864-e1be-3ca40fde34b2"
      },
      "execution_count": 9,
      "outputs": [
        {
          "output_type": "stream",
          "name": "stdout",
          "text": [
            "dict_keys(['name', 'age', 'isMale'])\n"
          ]
        }
      ]
    },
    {
      "cell_type": "markdown",
      "source": [
        "### Getting all values"
      ],
      "metadata": {
        "id": "dhf2rdJ3A_xI"
      }
    },
    {
      "cell_type": "code",
      "source": [
        "values = dictionary.values()\n",
        "print(values)"
      ],
      "metadata": {
        "colab": {
          "base_uri": "https://localhost:8080/"
        },
        "id": "RY8-uYR8BBHH",
        "outputId": "8fab9ffc-a3f9-45fb-87a3-b44b800a1f93"
      },
      "execution_count": 10,
      "outputs": [
        {
          "output_type": "stream",
          "name": "stdout",
          "text": [
            "dict_values(['Krish', 22, True])\n"
          ]
        }
      ]
    },
    {
      "cell_type": "markdown",
      "source": [
        "### Getting all values"
      ],
      "metadata": {
        "id": "GpKkUtpJCw16"
      }
    },
    {
      "cell_type": "code",
      "source": [
        "items = dictionary.items()\n",
        "print(items)"
      ],
      "metadata": {
        "colab": {
          "base_uri": "https://localhost:8080/"
        },
        "id": "iRLRY5A4CyyD",
        "outputId": "03799102-5831-4d5a-a6e4-78923f6a63f5"
      },
      "execution_count": 11,
      "outputs": [
        {
          "output_type": "stream",
          "name": "stdout",
          "text": [
            "dict_items([('name', 'Krish'), ('age', 22), ('isMale', True)])\n"
          ]
        }
      ]
    },
    {
      "cell_type": "markdown",
      "source": [
        "### Shallow Copy"
      ],
      "metadata": {
        "id": "_CIWcd49C3h5"
      }
    },
    {
      "cell_type": "code",
      "source": [
        "dictionary_copy = dictionary.copy()\n",
        "dictionary[\"name\"]=\"Savita\"\n",
        "print(dictionary)\n",
        "print(dictionary_copy)"
      ],
      "metadata": {
        "colab": {
          "base_uri": "https://localhost:8080/"
        },
        "id": "7w5Wk9csC5QA",
        "outputId": "e63826a4-d27a-4457-fbaf-eecd6cf4c4f7"
      },
      "execution_count": 12,
      "outputs": [
        {
          "output_type": "stream",
          "name": "stdout",
          "text": [
            "{'name': 'Savita', 'age': 22, 'isMale': True}\n",
            "{'name': 'Krish', 'age': 22, 'isMale': True}\n"
          ]
        }
      ]
    },
    {
      "cell_type": "markdown",
      "source": [
        "### Iterating over dictionaries"
      ],
      "metadata": {
        "id": "P--F5YxNDKN6"
      }
    },
    {
      "cell_type": "code",
      "source": [
        "for key in dictionary.keys():\n",
        "  print(key,end=\" \")"
      ],
      "metadata": {
        "colab": {
          "base_uri": "https://localhost:8080/"
        },
        "id": "xdMpun2JDLrm",
        "outputId": "fdd5c847-bd4b-42bc-8c6d-7a4b1c3ec630"
      },
      "execution_count": 13,
      "outputs": [
        {
          "output_type": "stream",
          "name": "stdout",
          "text": [
            "name age isMale "
          ]
        }
      ]
    },
    {
      "cell_type": "code",
      "source": [
        "for value in dictionary.values():\n",
        "  print(value,end=\" \")"
      ],
      "metadata": {
        "colab": {
          "base_uri": "https://localhost:8080/"
        },
        "id": "NrKXu-h2DSOP",
        "outputId": "e5c1635a-fb2a-4db7-fbf0-e350ca0e6154"
      },
      "execution_count": 14,
      "outputs": [
        {
          "output_type": "stream",
          "name": "stdout",
          "text": [
            "Savita 22 True "
          ]
        }
      ]
    },
    {
      "cell_type": "code",
      "source": [
        "for key,value in dictionary.items():\n",
        "  print(key,value,end=\" \")"
      ],
      "metadata": {
        "colab": {
          "base_uri": "https://localhost:8080/"
        },
        "id": "esAolf_EDW1s",
        "outputId": "c332270d-00e8-49df-8d47-264bb35595e6"
      },
      "execution_count": 15,
      "outputs": [
        {
          "output_type": "stream",
          "name": "stdout",
          "text": [
            "name Savita age 22 isMale True "
          ]
        }
      ]
    },
    {
      "cell_type": "markdown",
      "source": [
        "## Nested Dictionaries"
      ],
      "metadata": {
        "id": "Uczhxfa6Dfvt"
      }
    },
    {
      "cell_type": "code",
      "source": [
        "students = {\n",
        "    \"student1\":{\"name\":\"Aarush\",\"age\":22,\"isMale\":True},\n",
        "    \"student2\":{\"name\":\"Tanmay\",\"age\":22,\"isMale\":True}\n",
        "}"
      ],
      "metadata": {
        "id": "x_fCitVlDhVQ"
      },
      "execution_count": 17,
      "outputs": []
    },
    {
      "cell_type": "code",
      "source": [
        "## Elements of nested dictionary\n",
        "students['student1']['name']"
      ],
      "metadata": {
        "colab": {
          "base_uri": "https://localhost:8080/",
          "height": 36
        },
        "id": "V9q_JkiZD2Xi",
        "outputId": "aa491db6-04e5-47c5-d7a1-faaa16233900"
      },
      "execution_count": 18,
      "outputs": [
        {
          "output_type": "execute_result",
          "data": {
            "text/plain": [
              "'Aarush'"
            ],
            "application/vnd.google.colaboratory.intrinsic+json": {
              "type": "string"
            }
          },
          "metadata": {},
          "execution_count": 18
        }
      ]
    },
    {
      "cell_type": "code",
      "source": [
        "for student_id,student_info in students.items():\n",
        "  print(f\"{student_id}:{student_info}\")\n",
        "  for key,value in student_info.items():\n",
        "    print(f\"{key}:{value}\")"
      ],
      "metadata": {
        "colab": {
          "base_uri": "https://localhost:8080/"
        },
        "id": "A-AFm4hYEktg",
        "outputId": "e520c1be-0361-4de5-fb11-44c0245d118c"
      },
      "execution_count": 19,
      "outputs": [
        {
          "output_type": "stream",
          "name": "stdout",
          "text": [
            "student1:{'name': 'Aarush', 'age': 22, 'isMale': True}\n",
            "name:Aarush\n",
            "age:22\n",
            "isMale:True\n",
            "student2:{'name': 'Tanmay', 'age': 22, 'isMale': True}\n",
            "name:Tanmay\n",
            "age:22\n",
            "isMale:True\n"
          ]
        }
      ]
    },
    {
      "cell_type": "code",
      "source": [
        "## Dictionary Comprehension\n",
        "squares = {x:x**2 for x in range(11)}\n",
        "print(squares)"
      ],
      "metadata": {
        "colab": {
          "base_uri": "https://localhost:8080/"
        },
        "id": "pu7Mb1SoFxc3",
        "outputId": "5e1b1be3-ad63-4274-fa49-d872faa74212"
      },
      "execution_count": 20,
      "outputs": [
        {
          "output_type": "stream",
          "name": "stdout",
          "text": [
            "{0: 0, 1: 1, 2: 4, 3: 9, 4: 16, 5: 25, 6: 36, 7: 49, 8: 64, 9: 81, 10: 100}\n"
          ]
        }
      ]
    },
    {
      "cell_type": "code",
      "source": [
        "## Conditional Dictionary Comprehension\n",
        "evens = {x:x**2 for x in range(11) if x%2 == 0}"
      ],
      "metadata": {
        "id": "Qdis2ineF6nI"
      },
      "execution_count": 21,
      "outputs": []
    },
    {
      "cell_type": "markdown",
      "source": [
        "### Frequency of a number in list using dictionary"
      ],
      "metadata": {
        "id": "7lVDb4z6HL_3"
      }
    },
    {
      "cell_type": "code",
      "source": [
        "number = [0,0,1,1,1,2,2,2,2,3,4,4,5,5,5]\n",
        "frequency = {}\n",
        "for num in number:\n",
        "  if num in frequency:\n",
        "    frequency[num]+=1\n",
        "  else:\n",
        "    frequency[num]=1\n",
        "print(frequency)"
      ],
      "metadata": {
        "colab": {
          "base_uri": "https://localhost:8080/"
        },
        "id": "4kFq9OWaHP9B",
        "outputId": "e096a919-4ef5-45c4-cb8f-7cdf89beb2bc"
      },
      "execution_count": 22,
      "outputs": [
        {
          "output_type": "stream",
          "name": "stdout",
          "text": [
            "{0: 2, 1: 3, 2: 4, 3: 1, 4: 2, 5: 3}\n"
          ]
        }
      ]
    },
    {
      "cell_type": "code",
      "source": [
        "d1 = {\"name\":\"Manish\",\"salary\":\"10 lakhs\",\"age\":52}\n",
        "d2 = {\"salary\":\"20 lakhs\",\"age\":53}\n",
        "d1.update(d2)\n",
        "print(d1)"
      ],
      "metadata": {
        "colab": {
          "base_uri": "https://localhost:8080/"
        },
        "id": "6qQSLSjRJsuP",
        "outputId": "38191845-4cd3-4d71-dc82-c8c0dfbc35b1"
      },
      "execution_count": 24,
      "outputs": [
        {
          "output_type": "stream",
          "name": "stdout",
          "text": [
            "{'name': 'Manish', 'salary': '20 lakhs', 'age': 53}\n"
          ]
        }
      ]
    }
  ]
}