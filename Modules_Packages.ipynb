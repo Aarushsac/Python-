{
  "nbformat": 4,
  "nbformat_minor": 0,
  "metadata": {
    "colab": {
      "provenance": []
    },
    "kernelspec": {
      "name": "python3",
      "display_name": "Python 3"
    },
    "language_info": {
      "name": "python"
    }
  },
  "cells": [
    {
      "cell_type": "markdown",
      "source": [
        "#Importing Modules and Packages in Python"
      ],
      "metadata": {
        "id": "r4vfKc6S1WLu"
      }
    },
    {
      "cell_type": "markdown",
      "source": [
        "In Python, modules and packages are used to organize and reuse code"
      ],
      "metadata": {
        "id": "6vQ-8G-k1gB5"
      }
    },
    {
      "cell_type": "markdown",
      "source": [
        "Packages and modules have some classes,objects and functions defined in them which we can use by importing them and we don't have to write everything from scratch"
      ],
      "metadata": {
        "id": "Qr3V2viU2bg9"
      }
    },
    {
      "cell_type": "code",
      "execution_count": 1,
      "metadata": {
        "colab": {
          "base_uri": "https://localhost:8080/"
        },
        "id": "3C3Ac7EQ1VcT",
        "outputId": "fab45843-fd4c-45d8-f8de-df17d8c62968"
      },
      "outputs": [
        {
          "output_type": "execute_result",
          "data": {
            "text/plain": [
              "2.0"
            ]
          },
          "metadata": {},
          "execution_count": 1
        }
      ],
      "source": [
        "import math ##Package name\n",
        "math.sqrt(4)"
      ]
    },
    {
      "cell_type": "code",
      "source": [
        "from math import sqrt,pi\n",
        "print(sqrt(64))\n",
        "print(sqrt(36))\n",
        "print(pi)"
      ],
      "metadata": {
        "colab": {
          "base_uri": "https://localhost:8080/"
        },
        "id": "u15K7dXS2pzB",
        "outputId": "fb1070bd-6318-4d6b-a9f0-144906087dbf"
      },
      "execution_count": 2,
      "outputs": [
        {
          "output_type": "stream",
          "name": "stdout",
          "text": [
            "8.0\n",
            "6.0\n",
            "3.141592653589793\n"
          ]
        }
      ]
    },
    {
      "cell_type": "code",
      "source": [
        "import numpy as np"
      ],
      "metadata": {
        "id": "386gDPwQ2ztV"
      },
      "execution_count": 3,
      "outputs": []
    },
    {
      "cell_type": "code",
      "source": [
        "np.array([1,2,3,4,5,6])"
      ],
      "metadata": {
        "colab": {
          "base_uri": "https://localhost:8080/"
        },
        "id": "kKTfqToX3F0Q",
        "outputId": "7df18acc-12f5-449a-9e43-f99d3d958301"
      },
      "execution_count": 4,
      "outputs": [
        {
          "output_type": "execute_result",
          "data": {
            "text/plain": [
              "array([1, 2, 3, 4, 5, 6])"
            ]
          },
          "metadata": {},
          "execution_count": 4
        }
      ]
    },
    {
      "cell_type": "markdown",
      "source": [
        "This is used to import all the functions,classes everything basically gets extracted from that module and is avaliable for use"
      ],
      "metadata": {
        "id": "_tyC9xoZ3W6_"
      }
    },
    {
      "cell_type": "code",
      "source": [
        "from math import *"
      ],
      "metadata": {
        "id": "GiMcIk4V3Irt"
      },
      "execution_count": 5,
      "outputs": []
    },
    {
      "cell_type": "markdown",
      "source": [
        "### Custom Packages"
      ],
      "metadata": {
        "id": "JTnRsNCx7fGT"
      }
    },
    {
      "cell_type": "code",
      "source": [
        "## We can create our own packages and define functions,classes and objects in it"
      ],
      "metadata": {
        "id": "mLfZNkb57gVz"
      },
      "execution_count": 7,
      "outputs": []
    },
    {
      "cell_type": "code",
      "source": [
        "## Syntax\n",
        "## from package(folder) import module(file.py)\n",
        "## file_name.function(arguments)"
      ],
      "metadata": {
        "id": "9Dz1l7O_8nEd"
      },
      "execution_count": 6,
      "outputs": []
    }
  ]
}