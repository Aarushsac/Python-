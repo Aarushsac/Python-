{
  "nbformat": 4,
  "nbformat_minor": 0,
  "metadata": {
    "colab": {
      "provenance": []
    },
    "kernelspec": {
      "name": "python3",
      "display_name": "Python 3"
    },
    "language_info": {
      "name": "python"
    }
  },
  "cells": [
    {
      "cell_type": "markdown",
      "source": [
        "# Strings"
      ],
      "metadata": {
        "id": "27LF7JacwN0E"
      }
    },
    {
      "cell_type": "markdown",
      "source": [
        "Strings in Python are basically a collection of characters.They are denoted by '' or \" \""
      ],
      "metadata": {
        "id": "JiG2zEIBwQ0L"
      }
    },
    {
      "cell_type": "code",
      "execution_count": 1,
      "metadata": {
        "colab": {
          "base_uri": "https://localhost:8080/"
        },
        "id": "nAf_ZHZ8wMoU",
        "outputId": "ac847e4a-12a6-44d5-b1eb-32b3efdfcd4e"
      },
      "outputs": [
        {
          "output_type": "stream",
          "name": "stdout",
          "text": [
            "Hi I am a string\n",
            "Hi I am a string\n"
          ]
        }
      ],
      "source": [
        "print(\"Hi I am a string\")\n",
        "print('Hi I am a string')"
      ]
    },
    {
      "cell_type": "markdown",
      "source": [
        "Strings are just text the part inside them is never evaluated"
      ],
      "metadata": {
        "id": "oG_RKo2YwtHs"
      }
    },
    {
      "cell_type": "code",
      "source": [
        "print('Hi I am \"Aarush\"')"
      ],
      "metadata": {
        "colab": {
          "base_uri": "https://localhost:8080/"
        },
        "id": "bdICCz1Kww8j",
        "outputId": "33cca2e9-7a38-48c5-a306-a5f2d0c35421"
      },
      "execution_count": 2,
      "outputs": [
        {
          "output_type": "stream",
          "name": "stdout",
          "text": [
            "Hi I am \"Aarush\"\n"
          ]
        }
      ]
    },
    {
      "cell_type": "markdown",
      "source": [
        "### Multi-line strings"
      ],
      "metadata": {
        "id": "FIKwR6C5xHFv"
      }
    },
    {
      "cell_type": "code",
      "source": [
        "temp = \"\"\"Hi! This a multi\n",
        "line string want me to show you proof\n",
        "This once printed will be\"\"\"\n",
        "print(temp)"
      ],
      "metadata": {
        "colab": {
          "base_uri": "https://localhost:8080/"
        },
        "id": "R7Y4hOWkxIki",
        "outputId": "d8dfb9cf-5c98-429b-a00c-a40199cbb4ed"
      },
      "execution_count": 3,
      "outputs": [
        {
          "output_type": "stream",
          "name": "stdout",
          "text": [
            "Hi! This a multi\n",
            "line string want me to show you proof \n",
            "This once printed will be\n"
          ]
        }
      ]
    },
    {
      "cell_type": "markdown",
      "source": [
        "### Indexing in Strings"
      ],
      "metadata": {
        "id": "zlVEY4M0xdMF"
      }
    },
    {
      "cell_type": "code",
      "source": [
        "##Same as in lists\n",
        "a = \"Hello World\"\n",
        "print(a[5])\n",
        "print(a[-1])\n",
        "print(a[0])"
      ],
      "metadata": {
        "colab": {
          "base_uri": "https://localhost:8080/"
        },
        "id": "lIyv73uRxedw",
        "outputId": "e3bda76e-9cc3-4768-aa48-0e63457201dc"
      },
      "execution_count": 4,
      "outputs": [
        {
          "output_type": "stream",
          "name": "stdout",
          "text": [
            " \n",
            "d\n",
            "H\n"
          ]
        }
      ]
    },
    {
      "cell_type": "markdown",
      "source": [
        "### Looping in Strings"
      ],
      "metadata": {
        "id": "s_woMKYoxqcP"
      }
    },
    {
      "cell_type": "code",
      "source": [
        "for char in \"text\":\n",
        "  print(char)"
      ],
      "metadata": {
        "colab": {
          "base_uri": "https://localhost:8080/"
        },
        "id": "6B7_SWHGxsAi",
        "outputId": "71e85505-2bfb-4d52-8c93-a66ebda1a5f5"
      },
      "execution_count": 5,
      "outputs": [
        {
          "output_type": "stream",
          "name": "stdout",
          "text": [
            "t\n",
            "e\n",
            "x\n",
            "t\n"
          ]
        }
      ]
    },
    {
      "cell_type": "markdown",
      "source": [
        "### Length function"
      ],
      "metadata": {
        "id": "45ZPLacax7cR"
      }
    },
    {
      "cell_type": "code",
      "source": [
        "print(len(a))"
      ],
      "metadata": {
        "colab": {
          "base_uri": "https://localhost:8080/"
        },
        "id": "PiqLlBM2x83k",
        "outputId": "d6009b42-2f74-4872-a700-7b6d3bf6b137"
      },
      "execution_count": 6,
      "outputs": [
        {
          "output_type": "stream",
          "name": "stdout",
          "text": [
            "11\n"
          ]
        }
      ]
    },
    {
      "cell_type": "markdown",
      "source": [
        "### Membership operators"
      ],
      "metadata": {
        "id": "Y8KO2yMeyEBc"
      }
    },
    {
      "cell_type": "code",
      "source": [
        "if 'a' not in \"Aarush\":\n",
        "  print(\"Hi\")"
      ],
      "metadata": {
        "id": "twAB9IcxyNLH"
      },
      "execution_count": 11,
      "outputs": []
    },
    {
      "cell_type": "markdown",
      "source": [
        "### Slicing"
      ],
      "metadata": {
        "id": "j7yXvme9ymMN"
      }
    },
    {
      "cell_type": "code",
      "source": [
        "## Reverse a string\n",
        "print(a[::-1])"
      ],
      "metadata": {
        "colab": {
          "base_uri": "https://localhost:8080/"
        },
        "id": "Ot37pfI3ynQQ",
        "outputId": "83793ab7-86be-440b-84b8-57b163ad83a7"
      },
      "execution_count": 12,
      "outputs": [
        {
          "output_type": "stream",
          "name": "stdout",
          "text": [
            "dlroW olleH\n"
          ]
        }
      ]
    },
    {
      "cell_type": "code",
      "source": [
        "print(a[3:])\n",
        "print(a[-5:-2])\n",
        "print(a[::2])"
      ],
      "metadata": {
        "colab": {
          "base_uri": "https://localhost:8080/"
        },
        "id": "YCxUJ3voyrdX",
        "outputId": "d87d33cc-cd2e-4d7a-8cca-cc1f069eb16b"
      },
      "execution_count": 14,
      "outputs": [
        {
          "output_type": "stream",
          "name": "stdout",
          "text": [
            "lo World\n",
            "Wor\n",
            "HloWrd\n"
          ]
        }
      ]
    },
    {
      "cell_type": "markdown",
      "source": [
        "### Upper function"
      ],
      "metadata": {
        "id": "YUJ7YOYVzDcU"
      }
    },
    {
      "cell_type": "code",
      "source": [
        "a = \"Hello World\"\n",
        "a.upper()"
      ],
      "metadata": {
        "colab": {
          "base_uri": "https://localhost:8080/",
          "height": 36
        },
        "id": "QgUfaJf_zE2w",
        "outputId": "b1e52783-0f67-4ce1-c56e-20ffcdc7ac6e"
      },
      "execution_count": 15,
      "outputs": [
        {
          "output_type": "execute_result",
          "data": {
            "text/plain": [
              "'HELLO WORLD'"
            ],
            "application/vnd.google.colaboratory.intrinsic+json": {
              "type": "string"
            }
          },
          "metadata": {},
          "execution_count": 15
        }
      ]
    },
    {
      "cell_type": "markdown",
      "source": [
        "### Lower function"
      ],
      "metadata": {
        "id": "vmB8RdlXzIM5"
      }
    },
    {
      "cell_type": "code",
      "source": [
        "a.lower()"
      ],
      "metadata": {
        "colab": {
          "base_uri": "https://localhost:8080/",
          "height": 36
        },
        "id": "Yu0f4bbjzH0X",
        "outputId": "33efb57e-6b58-429f-9581-5dd816070af7"
      },
      "execution_count": 17,
      "outputs": [
        {
          "output_type": "execute_result",
          "data": {
            "text/plain": [
              "'hello world'"
            ],
            "application/vnd.google.colaboratory.intrinsic+json": {
              "type": "string"
            }
          },
          "metadata": {},
          "execution_count": 17
        }
      ]
    },
    {
      "cell_type": "markdown",
      "source": [
        "### Strip function"
      ],
      "metadata": {
        "id": "EQlzcdCr0CIY"
      }
    },
    {
      "cell_type": "code",
      "source": [
        "a = \"   Hi i AM aarush.   fjjejd.   \"\n",
        "a.strip()"
      ],
      "metadata": {
        "colab": {
          "base_uri": "https://localhost:8080/",
          "height": 36
        },
        "id": "hfU4iKK30Dfg",
        "outputId": "0c35791a-a078-49be-d1de-87845a1e3065"
      },
      "execution_count": 18,
      "outputs": [
        {
          "output_type": "execute_result",
          "data": {
            "text/plain": [
              "'Hi i AM aarush.   fjjejd.'"
            ],
            "application/vnd.google.colaboratory.intrinsic+json": {
              "type": "string"
            }
          },
          "metadata": {},
          "execution_count": 18
        }
      ]
    },
    {
      "cell_type": "markdown",
      "source": [
        "## Split function"
      ],
      "metadata": {
        "id": "7MT40jny0L7F"
      }
    },
    {
      "cell_type": "code",
      "source": [
        "numbers = [int(x) for x in input('Enter a list of numbers seperated by a space').split()]\n",
        "numbers.sort()\n",
        "print(numbers)"
      ],
      "metadata": {
        "colab": {
          "base_uri": "https://localhost:8080/"
        },
        "id": "kjfS16XI0NZ_",
        "outputId": "ef475347-716d-43b2-aae8-19a61db1417f"
      },
      "execution_count": 20,
      "outputs": [
        {
          "output_type": "stream",
          "name": "stdout",
          "text": [
            "Enter a list of numbers seperated by a space5 2 3 -87 -999 1000 463782 -84829 2747\n",
            "[-84829, -999, -87, 2, 3, 5, 1000, 2747, 463782]\n"
          ]
        }
      ]
    },
    {
      "cell_type": "markdown",
      "source": [
        "### Title function"
      ],
      "metadata": {
        "id": "Sdtezxig1m2I"
      }
    },
    {
      "cell_type": "code",
      "source": [
        "name = input('Enter your name')\n",
        "print(f\"Hi {name.title()} We welcome you to our page\")"
      ],
      "metadata": {
        "colab": {
          "base_uri": "https://localhost:8080/"
        },
        "id": "f3QC3LaZ1oQm",
        "outputId": "44419916-2c99-4ead-ecd0-c50e3d7b5614"
      },
      "execution_count": 21,
      "outputs": [
        {
          "output_type": "stream",
          "name": "stdout",
          "text": [
            "Enter your nameaarush sachdeva\n",
            "Hi Aarush Sachdeva We welcome you to our page\n"
          ]
        }
      ]
    },
    {
      "cell_type": "markdown",
      "source": [
        "### F-strings"
      ],
      "metadata": {
        "id": "1C4lkot8119R"
      }
    },
    {
      "cell_type": "markdown",
      "source": [
        "For formatting strings we use f-strings they are used to include placeholders inside our strings we have to just specify f before our quotes"
      ],
      "metadata": {
        "id": "KEzDR2Ly13ib"
      }
    },
    {
      "cell_type": "code",
      "source": [
        "age = 24\n",
        "print(f\"Hi We have heard you are {age} years old\")"
      ],
      "metadata": {
        "colab": {
          "base_uri": "https://localhost:8080/"
        },
        "id": "dCdvk-rB13Kx",
        "outputId": "5764fd46-4cc9-4f5e-fe71-d5f296cfc76f"
      },
      "execution_count": 22,
      "outputs": [
        {
          "output_type": "stream",
          "name": "stdout",
          "text": [
            "Hi We have heard you are 24 years old\n"
          ]
        }
      ]
    }
  ]
}