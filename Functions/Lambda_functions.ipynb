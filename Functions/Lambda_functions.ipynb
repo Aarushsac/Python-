{
  "nbformat": 4,
  "nbformat_minor": 0,
  "metadata": {
    "colab": {
      "provenance": []
    },
    "kernelspec": {
      "name": "python3",
      "display_name": "Python 3"
    },
    "language_info": {
      "name": "python"
    }
  },
  "cells": [
    {
      "cell_type": "markdown",
      "source": [
        "# Lambda Functions"
      ],
      "metadata": {
        "id": "37BF8T05Xm-Z"
      }
    },
    {
      "cell_type": "markdown",
      "source": [
        "These functions are anonymous and defined using lambda keyword.They can have any number of parameters but they have only one expression"
      ],
      "metadata": {
        "id": "F2IAJLcaXprs"
      }
    },
    {
      "cell_type": "code",
      "execution_count": 1,
      "metadata": {
        "colab": {
          "base_uri": "https://localhost:8080/"
        },
        "id": "N7eonqRCXmDO",
        "outputId": "02a10f8b-0b4f-44c8-e0a2-e67e0fbb5a56"
      },
      "outputs": [
        {
          "output_type": "execute_result",
          "data": {
            "text/plain": [
              "<function __main__.<lambda>(arguments)>"
            ]
          },
          "metadata": {},
          "execution_count": 1
        }
      ],
      "source": [
        "lambda arguments: expression"
      ]
    },
    {
      "cell_type": "code",
      "source": [
        "add = lambda a,b : a + b\n",
        "print(add(6,8),type(add(6,8)))\n"
      ],
      "metadata": {
        "colab": {
          "base_uri": "https://localhost:8080/"
        },
        "id": "-_uqvd6aX-EJ",
        "outputId": "c7f1e4ce-615c-4276-e9c1-23d16f033d1a"
      },
      "execution_count": 2,
      "outputs": [
        {
          "output_type": "stream",
          "name": "stdout",
          "text": [
            "14 <class 'int'>\n"
          ]
        }
      ]
    },
    {
      "cell_type": "code",
      "source": [
        "largest_of_2_numbers = lambda a,b : max(a,b)"
      ],
      "metadata": {
        "id": "Q_YNEm5HYhWz"
      },
      "execution_count": 5,
      "outputs": []
    }
  ]
}
