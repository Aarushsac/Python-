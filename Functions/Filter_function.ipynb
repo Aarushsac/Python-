{
  "nbformat": 4,
  "nbformat_minor": 0,
  "metadata": {
    "colab": {
      "provenance": []
    },
    "kernelspec": {
      "name": "python3",
      "display_name": "Python 3"
    },
    "language_info": {
      "name": "python"
    }
  },
  "cells": [
    {
      "cell_type": "markdown",
      "source": [
        "## Filter function"
      ],
      "metadata": {
        "id": "vO-YlUvX5yZM"
      }
    },
    {
      "cell_type": "markdown",
      "source": [
        "This is used to construct an iterator from a from elements from an iterable for which an iterable returns true.It is used to filter out items from a list or an iterable based on a condition"
      ],
      "metadata": {
        "id": "VSQeTeV450WN"
      }
    },
    {
      "cell_type": "code",
      "execution_count": 1,
      "metadata": {
        "colab": {
          "base_uri": "https://localhost:8080/"
        },
        "id": "rqwmgek_5x_L",
        "outputId": "c4292208-eb5b-412f-a38c-6855160e1ad9"
      },
      "outputs": [
        {
          "output_type": "execute_result",
          "data": {
            "text/plain": [
              "[2, 4, 6, 8, 10]"
            ]
          },
          "metadata": {},
          "execution_count": 1
        }
      ],
      "source": [
        "def even(num):\n",
        "  if num % 2 == 0:\n",
        "    return True\n",
        "\n",
        "numbers = [1,2,3,4,5,6,7,8,9,10]\n",
        "list(filter(even,numbers))"
      ]
    },
    {
      "cell_type": "code",
      "source": [
        "## Filter function with lambda function\n",
        "elements = [\"Aarush\",\"Abhay\",\"Tanmay\",\"Arnav\",\"Raj\",\"Zaid\"]\n",
        "def length(element):\n",
        "  if len(element)>5:\n",
        "    return True\n",
        "\n",
        "final_result = list(filter(length,elements))\n",
        "print(final_result)\n"
      ],
      "metadata": {
        "colab": {
          "base_uri": "https://localhost:8080/"
        },
        "id": "D-niqWHG67jP",
        "outputId": "82c946b2-b58f-4afc-cd00-ad3aa435abef"
      },
      "execution_count": 3,
      "outputs": [
        {
          "output_type": "stream",
          "name": "stdout",
          "text": [
            "['Aarush', 'Tanmay']\n"
          ]
        }
      ]
    },
    {
      "cell_type": "code",
      "source": [
        "## Filter function with lambda function with multiple conditions\n",
        "numbers = 1,2,3,4,5,6,7,8,9,10\n",
        "list(filter(lambda x : x > 5 and x % 2 ==0 , numbers))"
      ],
      "metadata": {
        "colab": {
          "base_uri": "https://localhost:8080/"
        },
        "id": "j5QXHUfO7kO8",
        "outputId": "719ea760-fc80-42cc-9793-faf9930c2f54"
      },
      "execution_count": 4,
      "outputs": [
        {
          "output_type": "execute_result",
          "data": {
            "text/plain": [
              "[6, 8, 10]"
            ]
          },
          "metadata": {},
          "execution_count": 4
        }
      ]
    },
    {
      "cell_type": "code",
      "source": [
        "## Filter function with dictionary\n",
        "people = [\n",
        "    {'name':'Aarush','age':22},\n",
        "    {'name':'Abhay','age':45}\n",
        "]\n",
        "\n",
        "def age_greater_than_25(people):\n",
        "  if people['age']>25:\n",
        "    return True\n",
        "\n",
        "list(filter(age_greater_than_25,people))\n"
      ],
      "metadata": {
        "colab": {
          "base_uri": "https://localhost:8080/"
        },
        "id": "Ee4hnLGY8BNS",
        "outputId": "54ea1995-bc16-4c0a-ca1d-93da31d105af"
      },
      "execution_count": 9,
      "outputs": [
        {
          "output_type": "execute_result",
          "data": {
            "text/plain": [
              "[{'name': 'Abhay', 'age': 45}]"
            ]
          },
          "metadata": {},
          "execution_count": 9
        }
      ]
    }
  ]
}
