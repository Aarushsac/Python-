{
  "nbformat": 4,
  "nbformat_minor": 0,
  "metadata": {
    "colab": {
      "provenance": []
    },
    "kernelspec": {
      "name": "python3",
      "display_name": "Python 3"
    },
    "language_info": {
      "name": "python"
    }
  },
  "cells": [
    {
      "cell_type": "markdown",
      "source": [
        "# Map Function"
      ],
      "metadata": {
        "id": "DI9yvdrkxF1M"
      }
    },
    {
      "cell_type": "markdown",
      "source": [
        "This function is very important and it is used for applying a particular specified function to all the elements in a list or an iterable"
      ],
      "metadata": {
        "id": "TyqlefCAxHjT"
      }
    },
    {
      "cell_type": "code",
      "execution_count": 1,
      "metadata": {
        "colab": {
          "base_uri": "https://localhost:8080/"
        },
        "id": "oKDw2tGmxDhC",
        "outputId": "7c832ff7-2d62-4439-8469-2ff9e810e4fe"
      },
      "outputs": [
        {
          "output_type": "execute_result",
          "data": {
            "text/plain": [
              "[1.0, 2.0, 3.0, 4.0, 5.0, 6.0, 7.0, 8.0, 9.0, 10.0]"
            ]
          },
          "metadata": {},
          "execution_count": 1
        }
      ],
      "source": [
        "numbers = [x**2 for x in range(1,11)]\n",
        "list(map(lambda x : x**0.5 , numbers))"
      ]
    },
    {
      "cell_type": "markdown",
      "source": [
        "This returns an map object(iterator).This is particulary for transforming data in a list comprehensively."
      ],
      "metadata": {
        "id": "zfn34_S2xvUC"
      }
    },
    {
      "cell_type": "code",
      "source": [
        "## Lambda function with map\n",
        "numbers = [1,2,3,4,5,6,7,8,9,10]\n",
        "squared = lambda x : x ** 2\n",
        "list(map(squared,numbers))"
      ],
      "metadata": {
        "colab": {
          "base_uri": "https://localhost:8080/"
        },
        "id": "iUa81eWOx8Je",
        "outputId": "4e3414cc-e663-444b-fe0f-b734c317b868"
      },
      "execution_count": 3,
      "outputs": [
        {
          "output_type": "execute_result",
          "data": {
            "text/plain": [
              "[1, 4, 9, 16, 25, 36, 49, 64, 81, 100]"
            ]
          },
          "metadata": {},
          "execution_count": 3
        }
      ]
    },
    {
      "cell_type": "code",
      "source": [
        "## Map multiple iterables\n",
        "list_1 = [1,2,3,4,5]\n",
        "list_2 = [7,8,9,10,11]\n",
        "list(map(lambda x,y : x+y , list_1 , list_2))"
      ],
      "metadata": {
        "colab": {
          "base_uri": "https://localhost:8080/"
        },
        "id": "CKswa5lAytfD",
        "outputId": "65d8835c-ef5c-475f-b969-5bb624e22acf"
      },
      "execution_count": 4,
      "outputs": [
        {
          "output_type": "execute_result",
          "data": {
            "text/plain": [
              "[8, 10, 12, 14, 16]"
            ]
          },
          "metadata": {},
          "execution_count": 4
        }
      ]
    },
    {
      "cell_type": "code",
      "source": [
        "## Map to convert a list of strings to integers\n",
        "numbers = [\"23\",\"46\",\"73\",\"12\"]\n",
        "obj = list(map(lambda x: int(x) , numbers))\n",
        "print(obj,type(obj))"
      ],
      "metadata": {
        "colab": {
          "base_uri": "https://localhost:8080/"
        },
        "id": "cfilU3PTzUG6",
        "outputId": "71375c0d-8b48-4db3-8fbb-3ca66e8b2505"
      },
      "execution_count": 6,
      "outputs": [
        {
          "output_type": "stream",
          "name": "stdout",
          "text": [
            "[23, 46, 73, 12] <class 'list'>\n"
          ]
        }
      ]
    },
    {
      "cell_type": "code",
      "source": [
        "## title function conversion\n",
        "names = [\"aArusH\",\"manISH\",\"AbHAy\",\"Tanmay\"]\n",
        "names = list(map(str.title,names))\n",
        "print(names,type(names))"
      ],
      "metadata": {
        "colab": {
          "base_uri": "https://localhost:8080/"
        },
        "id": "_fRNbFNK0QhD",
        "outputId": "df7cc10b-700d-494e-c5b2-2b458628181a"
      },
      "execution_count": 12,
      "outputs": [
        {
          "output_type": "stream",
          "name": "stdout",
          "text": [
            "['Aarush', 'Manish', 'Abhay', 'Tanmay'] <class 'list'>\n"
          ]
        }
      ]
    },
    {
      "cell_type": "code",
      "source": [
        "def get_name(person):\n",
        "  return person['name']\n",
        "\n",
        "people = [\n",
        "    {'name':'Aarush','age':22},\n",
        "    {'name':'Abhay','age':21}\n",
        "]\n",
        "\n",
        "list(map(get_name,people))"
      ],
      "metadata": {
        "colab": {
          "base_uri": "https://localhost:8080/"
        },
        "id": "9GboVwOr1RR4",
        "outputId": "99b849d7-2265-4a08-f446-1d753522559b"
      },
      "execution_count": 15,
      "outputs": [
        {
          "output_type": "execute_result",
          "data": {
            "text/plain": [
              "['Aarush', 'Abhay']"
            ]
          },
          "metadata": {},
          "execution_count": 15
        }
      ]
    }
  ]
}