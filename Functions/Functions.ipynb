{
  "nbformat": 4,
  "nbformat_minor": 0,
  "metadata": {
    "colab": {
      "provenance": []
    },
    "kernelspec": {
      "name": "python3",
      "display_name": "Python 3"
    },
    "language_info": {
      "name": "python"
    }
  },
  "cells": [
    {
      "cell_type": "markdown",
      "source": [
        "# Functions"
      ],
      "metadata": {
        "id": "pNh9IroDj8yj"
      }
    },
    {
      "cell_type": "markdown",
      "source": [
        "A function is a block of code that is used to perform a task.It helps in organizing code,reusing code and improving readability"
      ],
      "metadata": {
        "id": "xVwQ8sH3kjE5"
      }
    },
    {
      "cell_type": "code",
      "execution_count": 3,
      "metadata": {
        "id": "Tz5oQS7Nj8VO"
      },
      "outputs": [],
      "source": [
        "## Syntax\n",
        "def function_name(parameters):\n",
        "  \"\"\"Docstring\"\"\"\n",
        "  ## Function body\n",
        "  return expression"
      ]
    },
    {
      "cell_type": "markdown",
      "source": [],
      "metadata": {
        "id": "mGI9DHVmlsII"
      }
    },
    {
      "cell_type": "code",
      "source": [
        "def even_or_odd(nums):\n",
        "  if nums % 2 == 0:\n",
        "    print('The provided number is even')\n",
        "  else:\n",
        "    print('The number is odd')\n",
        "nums = int(input('Enter your number'))"
      ],
      "metadata": {
        "colab": {
          "base_uri": "https://localhost:8080/"
        },
        "id": "PrR3zVc-lshg",
        "outputId": "79b943d6-6b03-465a-ba9d-7e9fd9386170"
      },
      "execution_count": 4,
      "outputs": [
        {
          "name": "stdout",
          "output_type": "stream",
          "text": [
            "Enter your number2\n"
          ]
        }
      ]
    },
    {
      "cell_type": "code",
      "source": [
        "## Why didn't the above code work?\n",
        "## Because we didn't call the function"
      ],
      "metadata": {
        "id": "pPAuAD9pl_Yq"
      },
      "execution_count": 5,
      "outputs": []
    },
    {
      "cell_type": "code",
      "source": [
        "## Function call\n",
        "nums = int(input('Enter value'))\n",
        "even_or_odd(nums)"
      ],
      "metadata": {
        "colab": {
          "base_uri": "https://localhost:8080/"
        },
        "id": "lCsJVeJImH7B",
        "outputId": "f621973b-cf87-4d77-a315-198bdde9cde6"
      },
      "execution_count": 6,
      "outputs": [
        {
          "output_type": "stream",
          "name": "stdout",
          "text": [
            "Enter value6\n",
            "The provided number is even\n"
          ]
        }
      ]
    },
    {
      "cell_type": "markdown",
      "source": [
        "### Function with multiple parameters"
      ],
      "metadata": {
        "id": "TX9HVm1kNGjt"
      }
    },
    {
      "cell_type": "code",
      "source": [
        "def func(a,b):\n",
        "  return a+b\n",
        "result = func(2,4)\n",
        "print(result)"
      ],
      "metadata": {
        "colab": {
          "base_uri": "https://localhost:8080/"
        },
        "id": "TBsRr9iKNJBT",
        "outputId": "50e1cf8a-06a8-4687-a1ac-cf0f09b47227"
      },
      "execution_count": 2,
      "outputs": [
        {
          "output_type": "stream",
          "name": "stdout",
          "text": [
            "6\n"
          ]
        }
      ]
    },
    {
      "cell_type": "markdown",
      "source": [
        "### Function with default parameters"
      ],
      "metadata": {
        "id": "Ych__OhvOGX-"
      }
    },
    {
      "cell_type": "code",
      "source": [
        "def greet(name=\"Guest\"):\n",
        "  print(f\"Hello {name} We welcome you to our hotel\")\n",
        "greet()"
      ],
      "metadata": {
        "colab": {
          "base_uri": "https://localhost:8080/"
        },
        "id": "NcJTfFDqOKSm",
        "outputId": "2d37df9d-4a47-4375-e8d9-467271ae18c9"
      },
      "execution_count": 7,
      "outputs": [
        {
          "output_type": "stream",
          "name": "stdout",
          "text": [
            "Hello Guest We welcome you to our hotel\n"
          ]
        }
      ]
    },
    {
      "cell_type": "markdown",
      "source": [
        "## Variable length parameters\n",
        "### Positional and Keywords Arguments"
      ],
      "metadata": {
        "id": "nIU9yAb8OY74"
      }
    },
    {
      "cell_type": "code",
      "source": [
        "## Suppose we have a function which has a lot of parameters\n",
        "def function(*args):\n",
        "  for number in args:\n",
        "    print(number,end=\" \")\n",
        "function(1,2,3,4,5,6,\"Aarush\",\"Manish\")"
      ],
      "metadata": {
        "colab": {
          "base_uri": "https://localhost:8080/"
        },
        "id": "1nnMvI7gObh7",
        "outputId": "f50e36b2-499e-421d-be4d-cf9e95f931b9"
      },
      "execution_count": 8,
      "outputs": [
        {
          "output_type": "stream",
          "name": "stdout",
          "text": [
            "1 2 3 4 5 6 Aarush Manish "
          ]
        }
      ]
    },
    {
      "cell_type": "markdown",
      "source": [
        "### Keyword Arguments"
      ],
      "metadata": {
        "id": "Kl0k6bSSTI79"
      }
    },
    {
      "cell_type": "code",
      "source": [
        "def print_details(**kwargs):\n",
        "  for key,value in kwargs.items():\n",
        "    print(f\"{key}:{value}\")\n",
        "print_details(name=\"Aarush\",age=22,country=\"India\")"
      ],
      "metadata": {
        "colab": {
          "base_uri": "https://localhost:8080/"
        },
        "id": "OeG0wKg7TN1V",
        "outputId": "a1865502-49a5-47a0-f729-e30fbc339dfc"
      },
      "execution_count": 9,
      "outputs": [
        {
          "output_type": "stream",
          "name": "stdout",
          "text": [
            "name:Aarush\n",
            "age:22\n",
            "country:India\n"
          ]
        }
      ]
    },
    {
      "cell_type": "markdown",
      "source": [
        "### Combine both"
      ],
      "metadata": {
        "id": "vWb0owa0Tjyf"
      }
    },
    {
      "cell_type": "code",
      "source": [
        "def print_details(*args,**kwargs):\n",
        "  for value in args:\n",
        "    print(f\"Positional Argument {value}\")\n",
        "  for key,value in kwargs.items():\n",
        "    print(f\"{key}:{value}\")\n",
        "print_details(1,2,3,4,5,6,name=\"Krish Naik\",age=38)"
      ],
      "metadata": {
        "colab": {
          "base_uri": "https://localhost:8080/"
        },
        "id": "tW6jpQBHTk1i",
        "outputId": "4f447180-6b44-48c4-c325-336f66731910"
      },
      "execution_count": 12,
      "outputs": [
        {
          "output_type": "stream",
          "name": "stdout",
          "text": [
            "Positional Argument 1\n",
            "Positional Argument 2\n",
            "Positional Argument 3\n",
            "Positional Argument 4\n",
            "Positional Argument 5\n",
            "Positional Argument 6\n",
            "name:Krish Naik\n",
            "age:38\n"
          ]
        }
      ]
    },
    {
      "cell_type": "markdown",
      "source": [
        "## Return type"
      ],
      "metadata": {
        "id": "XMVOLURTUEuK"
      }
    },
    {
      "cell_type": "code",
      "source": [
        "def multiply(a,b):\n",
        "  return a*b,a,b\n",
        "print(multiply(2,3),type(multiply(2,3)))\n"
      ],
      "metadata": {
        "colab": {
          "base_uri": "https://localhost:8080/"
        },
        "id": "MQZWOjW2UFuY",
        "outputId": "8914b744-94be-4965-cad3-9deaacf26bcd"
      },
      "execution_count": 14,
      "outputs": [
        {
          "output_type": "stream",
          "name": "stdout",
          "text": [
            "(6, 2, 3) <class 'tuple'>\n"
          ]
        }
      ]
    }
  ]
}
